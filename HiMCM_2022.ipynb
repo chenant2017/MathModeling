{
  "nbformat": 4,
  "nbformat_minor": 0,
  "metadata": {
    "colab": {
      "provenance": [],
      "authorship_tag": "ABX9TyMsb0BH35ZPHEDHc/b6ergz",
      "include_colab_link": true
    },
    "kernelspec": {
      "name": "python3",
      "display_name": "Python 3"
    },
    "language_info": {
      "name": "python"
    }
  },
  "cells": [
    {
      "cell_type": "markdown",
      "metadata": {
        "id": "view-in-github",
        "colab_type": "text"
      },
      "source": [
        "<a href=\"https://colab.research.google.com/github/chenant2017/MathModeling/blob/main/HiMCM_2022.ipynb\" target=\"_parent\"><img src=\"https://colab.research.google.com/assets/colab-badge.svg\" alt=\"Open In Colab\"/></a>"
      ]
    },
    {
      "cell_type": "markdown",
      "source": [
        "#Sim Work"
      ],
      "metadata": {
        "id": "HWpvDdoLRqA4"
      }
    },
    {
      "cell_type": "code",
      "source": [],
      "metadata": {
        "id": "Z4hC_KoueArF"
      },
      "execution_count": null,
      "outputs": []
    },
    {
      "cell_type": "markdown",
      "source": [
        "\n",
        "* 3: 10660\n",
        "* 4: 12115\n",
        "* 5: 14389\n",
        "* 6: 11111\n",
        "* 7: 3193\n",
        "* 8: 4958\n",
        "* 9: 7508\n",
        "\n"
      ],
      "metadata": {
        "id": "KHvC1HzReBNB"
      }
    },
    {
      "cell_type": "code",
      "source": [
        "with open(\"sim.in\", \"w\")  as fout:\n",
        "  FORAGERS = 14389\n",
        "  HIVES = 44\n",
        "  fout.write(\"90 100 8991 {}\\n\".format(FORAGERS * HIVES))\n",
        "  for i in range(90):\n",
        "    for j in range(100):\n",
        "      if (44 <= i <= 46 and 49 <= j <= 51):\n",
        "        continue\n",
        "      fout.write(\"{} {} 900 1\\n\".format(i, j))"
      ],
      "metadata": {
        "id": "4NJCSVvERpWg"
      },
      "execution_count": null,
      "outputs": []
    },
    {
      "cell_type": "code",
      "source": [
        "%cd ~/git/USACO\n",
        "!ls"
      ],
      "metadata": {
        "colab": {
          "base_uri": "https://localhost:8080/"
        },
        "id": "V2EBZj96RwcX",
        "outputId": "bb99fc09-a6e9-4423-d436-112fba67cd2e"
      },
      "execution_count": null,
      "outputs": [
        {
          "output_type": "stream",
          "name": "stdout",
          "text": [
            "/home/chenant/git/USACO\n",
            " alphastar\r\n",
            " bbreeds.cpp\r\n",
            " beehive_greedy.cpp\r\n",
            " beehive.in\r\n",
            " beehive_sim.cpp\r\n",
            " bg\r\n",
            " Bronze\r\n",
            " bs\r\n",
            " CF\r\n",
            " cpp_learning\r\n",
            " distant.cpp\r\n",
            " fixing2.cpp\r\n",
            " Gold\r\n",
            "'HiMCM - Clover May Forager SD 50  - 41___.csv:Zone.Identifier'\r\n",
            " OJ\r\n",
            " README.md\r\n",
            " results\r\n",
            " resultsc8_50\r\n",
            " Silver\r\n",
            " sim.csv\r\n",
            " sim.in\r\n",
            " sim.out\r\n",
            " sim.txt\r\n",
            " SPOJ\r\n",
            " template.cpp\r\n"
          ]
        }
      ]
    },
    {
      "cell_type": "code",
      "source": [
        "#APPLE TREES: 5x5\n",
        "HIVE_I = 2\n",
        "HIVE_J = 2\n",
        "\n",
        "with open(\"sim.in\", \"w\") as fout:\n",
        "  FORAGERS = 14389\n",
        "  HIVES = 4\n",
        "  fout.write(\"90 100 3204 {}\\n\".format(FORAGERS * HIVES)) #MUST CHANGE 3RD NUMBER WHEN LOCATION OF HIVE CHANGES\n",
        "  for i in range(2, 90, 5):\n",
        "    for j in range(2, 100, 5):\n",
        "      if (HIVE_I - 5 <= i <= HIVE_I + 5 and HIVE_J - 5 <= j <= HIVE_J + 5):\n",
        "        continue\n",
        "\n",
        "      for di in [-1, 0, 1]:\n",
        "        for dj in [-1, 0, 1]:\n",
        "          fout.write(\"{} {} {} {}\\n\".format(i + di, j + dj, 250, 1))\n",
        ""
      ],
      "metadata": {
        "id": "ncAcp5A7kARq"
      },
      "execution_count": null,
      "outputs": []
    },
    {
      "cell_type": "code",
      "source": [
        "#APPLE TREES: 5x5 with hive in corner\n",
        "HIVE_I = 0\n",
        "HIVE_J = 0\n",
        "\n",
        "with open(\"sim.in\", \"w\") as fout:\n",
        "  fout.write(\"90 100 3231 100000\\n\")\n",
        "  for i in range(2, 90, 5):\n",
        "    for j in range(2, 100, 5):\n",
        "      if (HIVE_I - 5 <= i <= HIVE_I + 5 and HIVE_J - 5 <= j <= HIVE_J + 5):\n",
        "        continue\n",
        "\n",
        "      for di in [-1, 0, 1]:\n",
        "        for dj in [-1, 0, 1]:\n",
        "          fout.write(\"{} {} {} {}\\n\".format(i + di, j + dj, 250, 1))\n",
        ""
      ],
      "metadata": {
        "id": "qnD5DhRPJi2D"
      },
      "execution_count": null,
      "outputs": []
    },
    {
      "cell_type": "code",
      "execution_count": null,
      "metadata": {
        "colab": {
          "base_uri": "https://localhost:8080/"
        },
        "id": "m82ilCChRReb",
        "outputId": "080b902c-628a-47c6-a52f-5e5f83535ea4"
      },
      "outputs": [
        {
          "output_type": "stream",
          "name": "stdout",
          "text": [
            "90 100 3204 100000\r\n",
            "1 1 250 1\r\n",
            "1 2 250 1\r\n",
            "1 3 250 1\r\n",
            "2 1 250 1\r\n",
            "2 2 250 1\r\n",
            "2 3 250 1\r\n",
            "3 1 250 1\r\n",
            "3 2 250 1\r\n",
            "3 3 250 1\r\n"
          ]
        }
      ],
      "source": [
        "!head sim.in"
      ]
    },
    {
      "cell_type": "code",
      "source": [
        "from google.colab import files"
      ],
      "metadata": {
        "id": "tLXA7ZrlS88G",
        "colab": {
          "base_uri": "https://localhost:8080/",
          "height": 166
        },
        "outputId": "3564b311-98b8-4054-e4cf-91e23cda4a18"
      },
      "execution_count": null,
      "outputs": [
        {
          "output_type": "error",
          "ename": "ModuleNotFoundError",
          "evalue": "ignored",
          "traceback": [
            "\u001b[0;31m---------------------------------------------------------------------------\u001b[0m",
            "\u001b[0;31mModuleNotFoundError\u001b[0m                       Traceback (most recent call last)",
            "Input \u001b[0;32mIn [66]\u001b[0m, in \u001b[0;36m<cell line: 1>\u001b[0;34m()\u001b[0m\n\u001b[0;32m----> 1\u001b[0m \u001b[38;5;28;01mfrom\u001b[39;00m \u001b[38;5;21;01mgoogle\u001b[39;00m\u001b[38;5;21;01m.\u001b[39;00m\u001b[38;5;21;01mcolab\u001b[39;00m \u001b[38;5;28;01mimport\u001b[39;00m files\n",
            "\u001b[0;31mModuleNotFoundError\u001b[0m: No module named 'google'"
          ]
        }
      ]
    },
    {
      "cell_type": "code",
      "source": [
        "files.download(\"sim.txt\")"
      ],
      "metadata": {
        "colab": {
          "base_uri": "https://localhost:8080/",
          "height": 17
        },
        "id": "vvmQ7OiuTVg7",
        "outputId": "a6ff4f4e-1566-4709-8a66-801a8f12b2d4"
      },
      "execution_count": null,
      "outputs": [
        {
          "output_type": "display_data",
          "data": {
            "text/plain": [
              "<IPython.core.display.Javascript object>"
            ],
            "application/javascript": [
              "\n",
              "    async function download(id, filename, size) {\n",
              "      if (!google.colab.kernel.accessAllowed) {\n",
              "        return;\n",
              "      }\n",
              "      const div = document.createElement('div');\n",
              "      const label = document.createElement('label');\n",
              "      label.textContent = `Downloading \"${filename}\": `;\n",
              "      div.appendChild(label);\n",
              "      const progress = document.createElement('progress');\n",
              "      progress.max = size;\n",
              "      div.appendChild(progress);\n",
              "      document.body.appendChild(div);\n",
              "\n",
              "      const buffers = [];\n",
              "      let downloaded = 0;\n",
              "\n",
              "      const channel = await google.colab.kernel.comms.open(id);\n",
              "      // Send a message to notify the kernel that we're ready.\n",
              "      channel.send({})\n",
              "\n",
              "      for await (const message of channel.messages) {\n",
              "        // Send a message to notify the kernel that we're ready.\n",
              "        channel.send({})\n",
              "        if (message.buffers) {\n",
              "          for (const buffer of message.buffers) {\n",
              "            buffers.push(buffer);\n",
              "            downloaded += buffer.byteLength;\n",
              "            progress.value = downloaded;\n",
              "          }\n",
              "        }\n",
              "      }\n",
              "      const blob = new Blob(buffers, {type: 'application/binary'});\n",
              "      const a = document.createElement('a');\n",
              "      a.href = window.URL.createObjectURL(blob);\n",
              "      a.download = filename;\n",
              "      div.appendChild(a);\n",
              "      a.click();\n",
              "      div.remove();\n",
              "    }\n",
              "  "
            ]
          },
          "metadata": {}
        },
        {
          "output_type": "display_data",
          "data": {
            "text/plain": [
              "<IPython.core.display.Javascript object>"
            ],
            "application/javascript": [
              "download(\"download_4f8b6e51-555a-4307-bda7-db10b4ffd59c\", \"sim.txt\", 105992)"
            ]
          },
          "metadata": {}
        }
      ]
    },
    {
      "cell_type": "markdown",
      "source": [
        "##CSV"
      ],
      "metadata": {
        "id": "HH1FyWDXRuzc"
      }
    },
    {
      "cell_type": "code",
      "source": [
        "!cat sim.csv"
      ],
      "metadata": {
        "id": "3m2D6ffmSjmP"
      },
      "execution_count": null,
      "outputs": []
    },
    {
      "cell_type": "code",
      "source": [
        "import pandas as pd\n",
        "import seaborn as sns\n",
        "import numpy as np\n",
        "import matplotlib.pyplot as plt"
      ],
      "metadata": {
        "id": "XlverdEDSUn8"
      },
      "execution_count": null,
      "outputs": []
    },
    {
      "cell_type": "code",
      "source": [
        "!pwd"
      ],
      "metadata": {
        "colab": {
          "base_uri": "https://localhost:8080/"
        },
        "id": "k2-2IZ0do9gS",
        "outputId": "a1763e82-3a4d-4271-f8d5-7fe2d68b8706"
      },
      "execution_count": null,
      "outputs": [
        {
          "output_type": "stream",
          "name": "stdout",
          "text": [
            "/home/chenant/git/USACO\r\n"
          ]
        }
      ]
    },
    {
      "cell_type": "code",
      "source": [
        "sim_df = pd.read_csv(\"sim.csv\", header=None).iloc[:,0:100]\n",
        "#sim_df = np.log(sim_df + 1)\n",
        "fig, ax = plt.subplots(figsize=(12, 9))\n",
        "sns.heatmap(data=sim_df, cmap=\"YlOrBr\",ax=ax, vmin=0, vmax=9000)"
      ],
      "metadata": {
        "colab": {
          "base_uri": "https://localhost:8080/",
          "height": 561
        },
        "id": "xqoqHPh0TGrk",
        "outputId": "40b9bedd-1e4f-4bcb-fe25-61ec3d109c30"
      },
      "execution_count": null,
      "outputs": [
        {
          "output_type": "execute_result",
          "data": {
            "text/plain": [
              "<AxesSubplot:>"
            ]
          },
          "metadata": {},
          "execution_count": 187
        },
        {
          "output_type": "display_data",
          "data": {
            "text/plain": [
              "<Figure size 864x648 with 2 Axes>"
            ],
            "image/png": "[encoded data removed]"
          },
          "metadata": {
            "needs_background": "light"
          }
        }
      ]
    },
    {
      "cell_type": "code",
      "source": [
        "!pwd"
      ],
      "metadata": {
        "colab": {
          "base_uri": "https://localhost:8080/"
        },
        "id": "6z36RP1ZTkM1",
        "outputId": "721bb3e5-af99-4169-eca9-5e2b858fc8af"
      },
      "execution_count": null,
      "outputs": [
        {
          "output_type": "stream",
          "name": "stdout",
          "text": [
            "/home/chenant/git/USACO\r\n"
          ]
        }
      ]
    },
    {
      "cell_type": "code",
      "source": [
        "sim_df = pd.read_csv(\"sim.csv\", header=None).iloc[:,0:100]\n",
        "#sim_df = np.log(sim_df + 1)\n",
        "fig, ax = plt.subplots(figsize=(12, 9))\n",
        "sns.heatmap(data=sim_df, cmap=\"YlOrBr\",ax=ax, vmin=0, vmax=500)"
      ],
      "metadata": {
        "colab": {
          "base_uri": "https://localhost:8080/",
          "height": 561
        },
        "id": "SzhcGRYhTfQq",
        "outputId": "179c0878-b492-4df5-ef89-e8ead638ada5"
      },
      "execution_count": null,
      "outputs": [
        {
          "output_type": "execute_result",
          "data": {
            "text/plain": [
              "<AxesSubplot:>"
            ]
          },
          "metadata": {},
          "execution_count": 317
        },
        {
          "output_type": "display_data",
          "data": {
            "text/plain": [
              "<Figure size 864x648 with 2 Axes>"
            ],
            "image/png": "[encoded data removed]"
          },
          "metadata": {
            "needs_background": "light"
          }
        }
      ]
    },
    {
      "cell_type": "code",
      "source": [
        "(sim_df>=134).sum().sum()/3204"
      ],
      "metadata": {
        "colab": {
          "base_uri": "https://localhost:8080/"
        },
        "id": "G9xEwFhUowx8",
        "outputId": "0c36deb5-9d8a-404b-a10e-7d17b6b79a62"
      },
      "execution_count": null,
      "outputs": [
        {
          "output_type": "execute_result",
          "data": {
            "text/plain": [
              "0.9968789013732834"
            ]
          },
          "metadata": {},
          "execution_count": 318
        }
      ]
    },
    {
      "cell_type": "code",
      "source": [
        "sim_df = pd.read_csv(\"sim.csv\", header=None).iloc[:,0:100]\n",
        "#sim_df = np.log(sim_df + 1)\n",
        "fig, ax = plt.subplots(figsize=(12, 9))\n",
        "sns.heatmap(data=sim_df, cmap=\"YlOrBr\",ax=ax, vmin=0, vmax=500)"
      ],
      "metadata": {
        "id": "w_9MUFYke-Bl",
        "colab": {
          "base_uri": "https://localhost:8080/",
          "height": 561
        },
        "outputId": "7c0f8fb4-d5c8-4bbe-889b-b09aad7bbec0"
      },
      "execution_count": null,
      "outputs": [
        {
          "output_type": "execute_result",
          "data": {
            "text/plain": [
              "<AxesSubplot:>"
            ]
          },
          "metadata": {},
          "execution_count": 105
        },
        {
          "output_type": "display_data",
          "data": {
            "text/plain": [
              "<Figure size 864x648 with 2 Axes>"
            ],
            "image/png": "[encoded data removed]"
          },
          "metadata": {
            "needs_background": "light"
          }
        }
      ]
    },
    {
      "cell_type": "code",
      "source": [],
      "metadata": {
        "id": "cbHIIRHTQ8pU"
      },
      "execution_count": null,
      "outputs": []
    },
    {
      "cell_type": "code",
      "source": [
        "sim_df.max().max()"
      ],
      "metadata": {
        "id": "_NeWzfwd-B0o",
        "colab": {
          "base_uri": "https://localhost:8080/"
        },
        "outputId": "5cafe8fd-0c29-48e4-f7aa-1c4620d5722f"
      },
      "execution_count": null,
      "outputs": [
        {
          "output_type": "execute_result",
          "data": {
            "text/plain": [
              "4990"
            ]
          },
          "metadata": {},
          "execution_count": 78
        }
      ]
    },
    {
      "cell_type": "code",
      "source": [
        "sim_df = pd.read_csv(\"sim.csv\", header=None).iloc[:,0:100]\n",
        "sim_df = np.log(sim_df + 1)\n",
        "fig, ax = plt.subplots(figsize=(12, 9))\n",
        "sns.heatmap(data=sim_df, cmap=\"GnBu\",ax=ax)"
      ],
      "metadata": {
        "id": "T64NeEj0ZA4L",
        "colab": {
          "base_uri": "https://localhost:8080/",
          "height": 545
        },
        "outputId": "d285352d-f60d-4be2-b407-e451df703474"
      },
      "execution_count": null,
      "outputs": [
        {
          "output_type": "execute_result",
          "data": {
            "text/plain": [
              "<AxesSubplot:>"
            ]
          },
          "metadata": {},
          "execution_count": 52
        },
        {
          "output_type": "display_data",
          "data": {
            "text/plain": [
              "<Figure size 864x648 with 2 Axes>"
            ],
            "image/png": "[encoded data removed]"
          },
          "metadata": {
            "needs_background": "light"
          }
        }
      ]
    },
    {
      "cell_type": "code",
      "source": [
        "sim_df = pd.read_csv(\"sim.csv\", header=None).iloc[:,0:100]\n",
        "sim_df = np.log(sim_df + 1)\n",
        "fig, ax = plt.subplots(figsize=(12, 9))\n",
        "sns.heatmap(data=sim_df, cmap=\"GnBu\",ax=ax)"
      ],
      "metadata": {
        "colab": {
          "base_uri": "https://localhost:8080/",
          "height": 550
        },
        "id": "qXaipbBV43ll",
        "outputId": "103cb1ba-f59b-4f69-b1b3-dbbd816adf18"
      },
      "execution_count": null,
      "outputs": [
        {
          "output_type": "execute_result",
          "data": {
            "text/plain": [
              "<AxesSubplot:>"
            ]
          },
          "metadata": {},
          "execution_count": 69
        },
        {
          "output_type": "display_data",
          "data": {
            "text/plain": [
              "<Figure size 864x648 with 2 Axes>"
            ],
            "image/png": "[encoded data removed]"
          },
          "metadata": {
            "needs_background": "light"
          }
        }
      ]
    },
    {
      "cell_type": "code",
      "execution_count": null,
      "metadata": {
        "id": "rekdnBge90K3"
      },
      "outputs": [],
      "source": [
        "import math\n",
        "\n",
        "def f1(x, c, k):\n",
        "  if x==0:\n",
        "    return c\n",
        "  return c/(k*abs(x))\n",
        "\n",
        "def f2(x, c, k):\n",
        "  if x == 0:\n",
        "    return c\n",
        "  return c/((1+abs(x))**k)\n",
        "\n",
        "def f3(x, c, k):\n",
        "  return c/((1+abs(x))**k)\n",
        "\n",
        "def f4(x, c, sigma):\n",
        "  return c*math.exp(-x**2/(2*sigma))\n",
        "\n",
        "def f5(x, k):\n",
        "  if x < 0.5:\n",
        "    return k\n",
        "  return k/(abs(x) + 1)\n",
        "\n",
        "def f6(x, k, x0): #logistic\n",
        "  return -1/(1 + math.exp(-k * (x - x0))) + 1"
      ]
    },
    {
      "cell_type": "code",
      "source": [
        "import seaborn as sns\n",
        "import numpy as np\n",
        "\n",
        "x = np.array(range(0, 2000, 1))/1000\n",
        "y = [f6(t, 500, 1) for t in x]\n",
        "\n",
        "sns.lineplot(x, y)"
      ],
      "metadata": {
        "colab": {
          "base_uri": "https://localhost:8080/",
          "height": 337
        },
        "id": "Arnply1b-Tij",
        "outputId": "c5c7998c-3afd-4ecd-c405-c56d9320a725"
      },
      "execution_count": null,
      "outputs": [
        {
          "output_type": "stream",
          "name": "stderr",
          "text": [
            "/home/chenant/miniconda3/lib/python3.9/site-packages/seaborn/_decorators.py:36: FutureWarning: Pass the following variables as keyword args: x, y. From version 0.12, the only valid positional argument will be `data`, and passing other arguments without an explicit keyword will result in an error or misinterpretation.\n",
            "  warnings.warn(\n"
          ]
        },
        {
          "output_type": "execute_result",
          "data": {
            "text/plain": [
              "<AxesSubplot:>"
            ]
          },
          "metadata": {},
          "execution_count": 83
        },
        {
          "output_type": "display_data",
          "data": {
            "text/plain": [
              "<Figure size 432x288 with 1 Axes>"
            ],
            "image/png": "[encoded data removed]"
          },
          "metadata": {
            "needs_background": "light"
          }
        }
      ]
    },
    {
      "cell_type": "markdown",
      "source": [
        "#Population Model"
      ],
      "metadata": {
        "id": "ifX0SFfbRsKJ"
      }
    },
    {
      "cell_type": "code",
      "source": [
        "from math import e"
      ],
      "metadata": {
        "id": "QJH79i19aWs7"
      },
      "execution_count": null,
      "outputs": []
    },
    {
      "cell_type": "code",
      "source": [
        "P0 = 200\n",
        "N = 80000"
      ],
      "metadata": {
        "id": "ydiIALCpaFJm"
      },
      "execution_count": null,
      "outputs": []
    },
    {
      "cell_type": "code",
      "source": [
        "C = P0/(N - P0)"
      ],
      "metadata": {
        "id": "zmIZ9go3Zjud"
      },
      "execution_count": null,
      "outputs": []
    },
    {
      "cell_type": "code",
      "source": [
        "def P(t):\n",
        "  return N * C/(e**(-k(t) * t) + C)"
      ],
      "metadata": {
        "id": "yVLhdFKfXzom"
      },
      "execution_count": null,
      "outputs": []
    },
    {
      "cell_type": "code",
      "source": [
        "def k(t):\n",
        "  return e(t)/P(t) - 1/l(t)"
      ],
      "metadata": {
        "id": "1rJeIVocYETm"
      },
      "execution_count": null,
      "outputs": []
    },
    {
      "cell_type": "code",
      "source": [
        "for i in range(10):\n",
        "  print(P(i))"
      ],
      "metadata": {
        "colab": {
          "base_uri": "https://localhost:8080/",
          "height": 287
        },
        "id": "-B8nQ3rEaBC5",
        "outputId": "f18e7e14-509a-4993-acb9-a1e0d3c8a0e6"
      },
      "execution_count": null,
      "outputs": [
        {
          "output_type": "error",
          "ename": "TypeError",
          "evalue": "ignored",
          "traceback": [
            "\u001b[0;31m---------------------------------------------------------------------------\u001b[0m",
            "\u001b[0;31mTypeError\u001b[0m                                 Traceback (most recent call last)",
            "\u001b[0;32m<ipython-input-17-374801d90d2f>\u001b[0m in \u001b[0;36m<module>\u001b[0;34m\u001b[0m\n\u001b[1;32m      1\u001b[0m \u001b[0;32mfor\u001b[0m \u001b[0mi\u001b[0m \u001b[0;32min\u001b[0m \u001b[0mrange\u001b[0m\u001b[0;34m(\u001b[0m\u001b[0;36m10\u001b[0m\u001b[0;34m)\u001b[0m\u001b[0;34m:\u001b[0m\u001b[0;34m\u001b[0m\u001b[0;34m\u001b[0m\u001b[0m\n\u001b[0;32m----> 2\u001b[0;31m   \u001b[0mprint\u001b[0m\u001b[0;34m(\u001b[0m\u001b[0mP\u001b[0m\u001b[0;34m(\u001b[0m\u001b[0mi\u001b[0m\u001b[0;34m)\u001b[0m\u001b[0;34m)\u001b[0m\u001b[0;34m\u001b[0m\u001b[0;34m\u001b[0m\u001b[0m\n\u001b[0m",
            "\u001b[0;32m<ipython-input-15-d9d3ca24d4ae>\u001b[0m in \u001b[0;36mP\u001b[0;34m(t)\u001b[0m\n\u001b[1;32m      1\u001b[0m \u001b[0;32mdef\u001b[0m \u001b[0mP\u001b[0m\u001b[0;34m(\u001b[0m\u001b[0mt\u001b[0m\u001b[0;34m)\u001b[0m\u001b[0;34m:\u001b[0m\u001b[0;34m\u001b[0m\u001b[0;34m\u001b[0m\u001b[0m\n\u001b[0;32m----> 2\u001b[0;31m   \u001b[0;32mreturn\u001b[0m \u001b[0mN\u001b[0m \u001b[0;34m*\u001b[0m \u001b[0mC\u001b[0m\u001b[0;34m/\u001b[0m\u001b[0;34m(\u001b[0m\u001b[0me\u001b[0m\u001b[0;34m**\u001b[0m\u001b[0;34m(\u001b[0m\u001b[0;34m-\u001b[0m\u001b[0mk\u001b[0m\u001b[0;34m(\u001b[0m\u001b[0mt\u001b[0m\u001b[0;34m)\u001b[0m \u001b[0;34m*\u001b[0m \u001b[0mt\u001b[0m\u001b[0;34m)\u001b[0m \u001b[0;34m+\u001b[0m \u001b[0mC\u001b[0m\u001b[0;34m)\u001b[0m\u001b[0;34m\u001b[0m\u001b[0;34m\u001b[0m\u001b[0m\n\u001b[0m",
            "\u001b[0;32m<ipython-input-16-0ab3f8fc452e>\u001b[0m in \u001b[0;36mk\u001b[0;34m(t)\u001b[0m\n\u001b[1;32m      1\u001b[0m \u001b[0;32mdef\u001b[0m \u001b[0mk\u001b[0m\u001b[0;34m(\u001b[0m\u001b[0mt\u001b[0m\u001b[0;34m)\u001b[0m\u001b[0;34m:\u001b[0m\u001b[0;34m\u001b[0m\u001b[0;34m\u001b[0m\u001b[0m\n\u001b[0;32m----> 2\u001b[0;31m   \u001b[0;32mreturn\u001b[0m \u001b[0me\u001b[0m\u001b[0;34m(\u001b[0m\u001b[0mt\u001b[0m\u001b[0;34m)\u001b[0m\u001b[0;34m/\u001b[0m\u001b[0mP\u001b[0m \u001b[0;34m-\u001b[0m \u001b[0;36m1\u001b[0m\u001b[0;34m/\u001b[0m\u001b[0ml\u001b[0m\u001b[0;34m(\u001b[0m\u001b[0mt\u001b[0m\u001b[0;34m)\u001b[0m\u001b[0;34m\u001b[0m\u001b[0;34m\u001b[0m\u001b[0m\n\u001b[0m",
            "\u001b[0;31mTypeError\u001b[0m: 'float' object is not callable"
          ]
        }
      ]
    },
    {
      "cell_type": "code",
      "source": [],
      "metadata": {
        "id": "WXCqG6foaO_T"
      },
      "execution_count": null,
      "outputs": []
    },
    {
      "cell_type": "markdown",
      "source": [
        "#BirDePy"
      ],
      "metadata": {
        "id": "0HYeN6Q-enRS"
      }
    },
    {
      "cell_type": "code",
      "source": [
        "!pip install birdepy gwr_inversion"
      ],
      "metadata": {
        "colab": {
          "base_uri": "https://localhost:8080/",
          "height": 656
        },
        "id": "1CjLbiC6epWJ",
        "outputId": "de8763a5-30f6-4064-f2ad-c891b312e46c"
      },
      "execution_count": null,
      "outputs": [
        {
          "output_type": "stream",
          "name": "stdout",
          "text": [
            "Looking in indexes: https://pypi.org/simple, https://us-python.pkg.dev/colab-wheels/public/simple/\n",
            "Collecting birdepy\n",
            "  Downloading birdepy-0.0.12-py3-none-any.whl (2.7 MB)\n",
            "\u001b[K     |████████████████████████████████| 2.7 MB 5.3 MB/s \n",
            "\u001b[?25hCollecting gwr_inversion\n",
            "  Downloading gwr_inversion-1.0.1-py3-none-any.whl (5.9 kB)\n",
            "Requirement already satisfied: numpy>=1.17.0 in /usr/local/lib/python3.7/dist-packages (from birdepy) (1.21.6)\n",
            "Collecting matplotlib>=3.4.2\n",
            "  Downloading matplotlib-3.5.3-cp37-cp37m-manylinux_2_5_x86_64.manylinux1_x86_64.whl (11.2 MB)\n",
            "\u001b[K     |████████████████████████████████| 11.2 MB 35.1 MB/s \n",
            "\u001b[?25hRequirement already satisfied: scipy>=1.7.0 in /usr/local/lib/python3.7/dist-packages (from birdepy) (1.7.3)\n",
            "Requirement already satisfied: mpmath>=1.2.0 in /usr/local/lib/python3.7/dist-packages (from birdepy) (1.2.1)\n",
            "Requirement already satisfied: pillow>=6.2.0 in /usr/local/lib/python3.7/dist-packages (from matplotlib>=3.4.2->birdepy) (7.1.2)\n",
            "Requirement already satisfied: kiwisolver>=1.0.1 in /usr/local/lib/python3.7/dist-packages (from matplotlib>=3.4.2->birdepy) (1.4.4)\n",
            "Requirement already satisfied: cycler>=0.10 in /usr/local/lib/python3.7/dist-packages (from matplotlib>=3.4.2->birdepy) (0.11.0)\n",
            "Collecting fonttools>=4.22.0\n",
            "  Downloading fonttools-4.38.0-py3-none-any.whl (965 kB)\n",
            "\u001b[K     |████████████████████████████████| 965 kB 35.9 MB/s \n",
            "\u001b[?25hRequirement already satisfied: python-dateutil>=2.7 in /usr/local/lib/python3.7/dist-packages (from matplotlib>=3.4.2->birdepy) (2.8.2)\n",
            "Requirement already satisfied: pyparsing>=2.2.1 in /usr/local/lib/python3.7/dist-packages (from matplotlib>=3.4.2->birdepy) (3.0.9)\n",
            "Requirement already satisfied: packaging>=20.0 in /usr/local/lib/python3.7/dist-packages (from matplotlib>=3.4.2->birdepy) (21.3)\n",
            "Requirement already satisfied: typing-extensions in /usr/local/lib/python3.7/dist-packages (from kiwisolver>=1.0.1->matplotlib>=3.4.2->birdepy) (4.1.1)\n",
            "Requirement already satisfied: six>=1.5 in /usr/local/lib/python3.7/dist-packages (from python-dateutil>=2.7->matplotlib>=3.4.2->birdepy) (1.15.0)\n",
            "Installing collected packages: fonttools, matplotlib, gwr-inversion, birdepy\n",
            "  Attempting uninstall: matplotlib\n",
            "    Found existing installation: matplotlib 3.2.2\n",
            "    Uninstalling matplotlib-3.2.2:\n",
            "      Successfully uninstalled matplotlib-3.2.2\n",
            "Successfully installed birdepy-0.0.12 fonttools-4.38.0 gwr-inversion-1.0.1 matplotlib-3.5.3\n"
          ]
        },
        {
          "output_type": "display_data",
          "data": {
            "application/vnd.colab-display-data+json": {
              "pip_warning": {
                "packages": [
                  "matplotlib",
                  "mpl_toolkits"
                ]
              }
            }
          },
          "metadata": {}
        }
      ]
    },
    {
      "cell_type": "code",
      "source": [
        "import birdepy as bd\n",
        "import numpy as np\n",
        "\n",
        "model = 'Verhulst'\n",
        "\n",
        "birth_rate = 0.75\n",
        "death_rate = 0.05\n",
        "initial_population = 200\n",
        "max_population = 800\n",
        "true_parameters = [birth_rate, death_rate, 1/max_population, 0]\n",
        "simulation_horizon = 100\n",
        "obs_times = np.arange(0, simulation_horizon+1, 1)\n",
        "estimated_population = bd.simulate.discrete(\n",
        "    true_parameters, model, initial_population,\n",
        "    obs_times, seed=1)\n",
        "\n"
      ],
      "metadata": {
        "id": "i4jucxHbetig"
      },
      "execution_count": null,
      "outputs": []
    },
    {
      "cell_type": "code",
      "source": [
        "import matplotlib.pyplot as plt\n",
        "\n",
        "plt.step(obs_times, np.array(estimated_population)*100, 'r', where='post', color='tab:purple')\n",
        "plt.ylabel('bee population')\n",
        "plt.xlabel('day')\n",
        "plt.show()"
      ],
      "metadata": {
        "id": "vl-8i6Kuewxl"
      },
      "execution_count": null,
      "outputs": []
    }
  ]
}