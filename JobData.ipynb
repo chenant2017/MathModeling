{
  "nbformat": 4,
  "nbformat_minor": 0,
  "metadata": {
    "colab": {
      "provenance": [],
      "authorship_tag": "ABX9TyMjsubikby2FZz0+ei9wd11",
      "include_colab_link": true
    },
    "kernelspec": {
      "name": "python3",
      "display_name": "Python 3"
    }
  },
  "cells": [
    {
      "cell_type": "markdown",
      "metadata": {
        "id": "view-in-github",
        "colab_type": "text"
      },
      "source": [
        "<a href=\"https://colab.research.google.com/github/chenant2017/MathModeling/blob/main/JobData.ipynb\" target=\"_parent\"><img src=\"https://colab.research.google.com/assets/colab-badge.svg\" alt=\"Open In Colab\"/></a>"
      ]
    },
    {
      "cell_type": "code",
      "metadata": {
        "id": "Y91ZIrtI6Qqp",
        "outputId": "ef9d770a-5cdd-48c7-d8cf-e8a74ab996a6",
        "colab": {
          "base_uri": "https://localhost:8080/",
          "height": 582
        }
      },
      "source": [
        "!pip install --upgrade gspread\n",
        "!pip install beautifulsoup4\n",
        "!pip install html2text"
      ],
      "execution_count": null,
      "outputs": [
        {
          "output_type": "stream",
          "text": [
            "Collecting gspread\n",
            "  Downloading https://files.pythonhosted.org/packages/9c/ba/bc8de4f5077bd34bc873bdd67a89cb29c4f181abba8a836d2c6a0a142365/gspread-3.6.0-py3-none-any.whl\n",
            "Requirement already satisfied, skipping upgrade: google-auth>=1.12.0 in /usr/local/lib/python3.6/dist-packages (from gspread) (1.17.2)\n",
            "Requirement already satisfied, skipping upgrade: google-auth-oauthlib>=0.4.1 in /usr/local/lib/python3.6/dist-packages (from gspread) (0.4.2)\n",
            "Requirement already satisfied, skipping upgrade: requests>=2.2.1 in /usr/local/lib/python3.6/dist-packages (from gspread) (2.23.0)\n",
            "Requirement already satisfied, skipping upgrade: rsa<5,>=3.1.4; python_version >= \"3\" in /usr/local/lib/python3.6/dist-packages (from google-auth>=1.12.0->gspread) (4.6)\n",
            "Requirement already satisfied, skipping upgrade: pyasn1-modules>=0.2.1 in /usr/local/lib/python3.6/dist-packages (from google-auth>=1.12.0->gspread) (0.2.8)\n",
            "Requirement already satisfied, skipping upgrade: setuptools>=40.3.0 in /usr/local/lib/python3.6/dist-packages (from google-auth>=1.12.0->gspread) (50.3.2)\n",
            "Requirement already satisfied, skipping upgrade: cachetools<5.0,>=2.0.0 in /usr/local/lib/python3.6/dist-packages (from google-auth>=1.12.0->gspread) (4.1.1)\n",
            "Requirement already satisfied, skipping upgrade: six>=1.9.0 in /usr/local/lib/python3.6/dist-packages (from google-auth>=1.12.0->gspread) (1.15.0)\n",
            "Requirement already satisfied, skipping upgrade: requests-oauthlib>=0.7.0 in /usr/local/lib/python3.6/dist-packages (from google-auth-oauthlib>=0.4.1->gspread) (1.3.0)\n",
            "Requirement already satisfied, skipping upgrade: idna<3,>=2.5 in /usr/local/lib/python3.6/dist-packages (from requests>=2.2.1->gspread) (2.10)\n",
            "Requirement already satisfied, skipping upgrade: chardet<4,>=3.0.2 in /usr/local/lib/python3.6/dist-packages (from requests>=2.2.1->gspread) (3.0.4)\n",
            "Requirement already satisfied, skipping upgrade: urllib3!=1.25.0,!=1.25.1,<1.26,>=1.21.1 in /usr/local/lib/python3.6/dist-packages (from requests>=2.2.1->gspread) (1.24.3)\n",
            "Requirement already satisfied, skipping upgrade: certifi>=2017.4.17 in /usr/local/lib/python3.6/dist-packages (from requests>=2.2.1->gspread) (2020.6.20)\n",
            "Requirement already satisfied, skipping upgrade: pyasn1>=0.1.3 in /usr/local/lib/python3.6/dist-packages (from rsa<5,>=3.1.4; python_version >= \"3\"->google-auth>=1.12.0->gspread) (0.4.8)\n",
            "Requirement already satisfied, skipping upgrade: oauthlib>=3.0.0 in /usr/local/lib/python3.6/dist-packages (from requests-oauthlib>=0.7.0->google-auth-oauthlib>=0.4.1->gspread) (3.1.0)\n",
            "Installing collected packages: gspread\n",
            "  Found existing installation: gspread 3.0.1\n",
            "    Uninstalling gspread-3.0.1:\n",
            "      Successfully uninstalled gspread-3.0.1\n",
            "Successfully installed gspread-3.6.0\n"
          ],
          "name": "stdout"
        },
        {
          "output_type": "display_data",
          "data": {
            "application/vnd.colab-display-data+json": {
              "pip_warning": {
                "packages": [
                  "gspread"
                ]
              }
            }
          },
          "metadata": {
            "tags": []
          }
        },
        {
          "output_type": "stream",
          "text": [
            "Requirement already satisfied: beautifulsoup4 in /usr/local/lib/python3.6/dist-packages (4.6.3)\n",
            "Collecting html2text\n",
            "  Downloading https://files.pythonhosted.org/packages/ae/88/14655f727f66b3e3199f4467bafcc88283e6c31b562686bf606264e09181/html2text-2020.1.16-py3-none-any.whl\n",
            "Installing collected packages: html2text\n",
            "Successfully installed html2text-2020.1.16\n"
          ],
          "name": "stdout"
        }
      ]
    },
    {
      "cell_type": "code",
      "metadata": {
        "id": "YkXd-XZYvkat"
      },
      "source": [
        "import gspread\n",
        "from oauth2client.client import GoogleCredentials\n",
        "from google.colab import auth\n",
        "import pandas as pd\n",
        "import numpy as np\n",
        "%matplotlib inline\n",
        "import matplotlib.pyplot as plt\n",
        "import seaborn as sns; sns.set()\n",
        "from sklearn.linear_model import LinearRegression\n",
        "from sklearn.pipeline import make_pipeline\n",
        "from sklearn import metrics\n",
        "\n",
        "auth.authenticate_user()\n",
        "\n",
        "gc = gspread.authorize(GoogleCredentials.get_application_default())\n",
        "wb = gc.open_by_url('https://docs.google.com/spreadsheets/d/1hjSjbaSv-iCy-NMWyC_xsRPZAQTkAh6UuLb93rZ25Ks/edit#gid=1954645479')\n",
        "sheet = wb.worksheet('Website 2')\n",
        "data = sheet.get_all_records()\n",
        "rdf = pd.DataFrame(data)"
      ],
      "execution_count": null,
      "outputs": []
    },
    {
      "cell_type": "code",
      "metadata": {
        "id": "zul1P3xM7t7Z"
      },
      "source": [
        "urls = rdf.URL.values.tolist()\n",
        "descriptions = rdf.Description.values.tolist()"
      ],
      "execution_count": null,
      "outputs": []
    },
    {
      "cell_type": "code",
      "metadata": {
        "id": "437plrtY5qtW"
      },
      "source": [
        "from urllib import request\n",
        "import re\n",
        "from IPython import display\n",
        "from time import sleep\n",
        "from bs4 import BeautifulSoup\n",
        "import html2text\n",
        "\n",
        "def read_url(url):\n",
        "  sleep(1)\n",
        "  return request.urlopen(url)\n",
        "\n",
        "def read_page(link):\n",
        "  f = read_url(link)\n",
        "  url_info = []\n",
        "  row = 0\n",
        "  pattern = re.compile(\"(?:.*jobmap\\[\\d+\\].*jk:')(?P<jk>[^']+).*\")\n",
        "  while True:\n",
        "    line = f.readline().decode('utf-8')\n",
        "    if not line:\n",
        "      break\n",
        "    m = pattern.match(line)\n",
        "    if m:\n",
        "      url_info.append(m.group(\"jk\"))\n",
        "      row += 1\n",
        "  return url_info\n",
        "\n",
        "def fetch_job_data(page_url):\n",
        "  f = read_url(page_url)\n",
        "  lines = []\n",
        "  while True:\n",
        "    line = f.readline().decode('utf-8')\n",
        "    if not line:\n",
        "      break\n",
        "    lines.append(line)\n",
        "  return lines\n",
        "\n",
        "\n",
        "def find_fields(source, field):\n",
        "  pattern = re.compile('(?:.*\"' + str(field) + '\":\")(?P<x>[^\"]*)\"')\n",
        "  for line in source:\n",
        "    m = pattern.match(line)\n",
        "    if m:\n",
        "      return m.group(\"x\")\n",
        "  return \"\"\n",
        "\n",
        "def find_array_field(source, field):\n",
        "  pattern = re.compile('(?:.*\"' + str(field) + '\":\\[)(?P<x>[^\\]]*)\\]')\n",
        "  for line in source:\n",
        "    m = pattern.match(line)\n",
        "    if \"Temporary\" in line:\n",
        "      print (line, m)\n",
        "    if m:\n",
        "      return m.group(\"x\")\n",
        "  return \"\"\n",
        "\n",
        "def get_description(source):\n",
        "  soup = BeautifulSoup(\"\\n\".join(source))\n",
        "  return html2text.html2text(\"<html>{}</html>\".format(soup.find(id=\"jobDescriptionText\")))\n",
        "\n",
        "def export_column(sheet, values, column=\"A\", start_row=1):\n",
        "  range = \"{c}{start}:{c}{end}\".format(c=column, start=start_row, end=start_row+len(values)-1)\n",
        "  cell_list = sheet.range(range)\n",
        "  for i, val in enumerate(values):\n",
        "    cell_list[i].value = str(val)\n",
        "  sheet.update_cells(cell_list)"
      ],
      "execution_count": null,
      "outputs": []
    },
    {
      "cell_type": "code",
      "metadata": {
        "id": "7AXxEnVMfP8X",
        "outputId": "e6b6a0b4-3bc7-44e3-814a-985fd45fa68b",
        "colab": {
          "base_uri": "https://localhost:8080/"
        }
      },
      "source": [
        "y_kmeans"
      ],
      "execution_count": null,
      "outputs": [
        {
          "output_type": "execute_result",
          "data": {
            "text/plain": [
              "array([ 9,  5,  5,  6,  8,  6,  4, 11,  2,  7, 12,  8,  6,  5,  3,  3,  1,\n",
              "        7,  3,  7,  6,  1,  4,  3,  9, 12,  4,  5,  6,  6, 10, 11,  6,  6,\n",
              "       11,  8, 11,  4,  6,  5,  5,  1,  6, 10, 10,  5,  6,  9,  4,  6,  1,\n",
              "        8, 12,  2,  8, 12,  0,  8,  8,  1, 10,  3,  0,  8,  2,  3,  0, 10,\n",
              "        8,  0,  0,  7,  3,  6, 10,  1,  3,  5, 11,  1, 10,  9,  8,  6,  3,\n",
              "        7,  1, 10,  3,  2,  8,  7,  7,  3, 11,  2,  8, 10,  8,  5,  2, 11,\n",
              "        5,  1,  7, 12,  3,  8,  8,  8,  2,  6,  3,  5,  8,  8,  3,  5,  3,\n",
              "        3,  8,  7, 12,  3,  8,  3,  1,  4,  1,  7,  2,  6,  3,  0,  1,  1,\n",
              "        6,  8, 11, 10,  4,  5,  0, 12, 12,  8,  1, 12,  1,  8, 12,  8,  0,\n",
              "        8,  2], dtype=int32)"
            ]
          },
          "metadata": {
            "tags": []
          },
          "execution_count": 33
        }
      ]
    },
    {
      "cell_type": "code",
      "metadata": {
        "id": "exXhdK7ZfKfA",
        "outputId": "5087adfe-c095-4c84-997b-2e64f2d10fbc",
        "colab": {
          "base_uri": "https://localhost:8080/"
        }
      },
      "source": [
        "sheet"
      ],
      "execution_count": null,
      "outputs": [
        {
          "output_type": "execute_result",
          "data": {
            "text/plain": [
              "<Worksheet 'Website 2' id:1954645479>"
            ]
          },
          "metadata": {
            "tags": []
          },
          "execution_count": 31
        }
      ]
    },
    {
      "cell_type": "code",
      "metadata": {
        "id": "9IP7lr8NcLe2"
      },
      "source": [
        "export_column(sheet, y_kmeans, \"F\", 2)"
      ],
      "execution_count": null,
      "outputs": []
    },
    {
      "cell_type": "code",
      "metadata": {
        "id": "RwikgCjP8_7_"
      },
      "source": [
        "### DON'T RUN AGAIN ###\n",
        "data = []\n",
        "i = 1\n",
        "for link in urls:\n",
        "  data.append(fetch_job_data(link))\n",
        "  print(i)\n",
        "  i += 1\n"
      ],
      "execution_count": null,
      "outputs": []
    },
    {
      "cell_type": "code",
      "metadata": {
        "id": "qrJoh5GX-y28"
      },
      "source": [
        "descriptions = [get_description(data[x]) for x in range(len(data))]"
      ],
      "execution_count": null,
      "outputs": []
    },
    {
      "cell_type": "code",
      "metadata": {
        "id": "IFAFM8MZFroq"
      },
      "source": [
        "export_column(sheet, descriptions, \"E\", 2)"
      ],
      "execution_count": null,
      "outputs": []
    },
    {
      "cell_type": "code",
      "metadata": {
        "id": "WXWdMAStOaKd",
        "outputId": "cee78938-8807-4bca-efd7-3a70a99cf2c7",
        "colab": {
          "base_uri": "https://localhost:8080/"
        }
      },
      "source": [
        "!pip install sentence_transformers"
      ],
      "execution_count": null,
      "outputs": [
        {
          "output_type": "stream",
          "text": [
            "Collecting sentence_transformers\n",
            "\u001b[?25l  Downloading https://files.pythonhosted.org/packages/f4/fd/0190080aa0af78d7cd5874e4e8e85f0bed9967dd387cf05d760832b95da9/sentence-transformers-0.3.8.tar.gz (66kB)\n",
            "\u001b[K     |████████████████████████████████| 71kB 3.6MB/s \n",
            "\u001b[?25hCollecting transformers<3.4.0,>=3.1.0\n",
            "\u001b[?25l  Downloading https://files.pythonhosted.org/packages/19/22/aff234f4a841f8999e68a7a94bdd4b60b4cebcfeca5d67d61cd08c9179de/transformers-3.3.1-py3-none-any.whl (1.1MB)\n",
            "\u001b[K     |████████████████████████████████| 1.1MB 8.4MB/s \n",
            "\u001b[?25hRequirement already satisfied: tqdm in /usr/local/lib/python3.6/dist-packages (from sentence_transformers) (4.41.1)\n",
            "Requirement already satisfied: torch>=1.2.0 in /usr/local/lib/python3.6/dist-packages (from sentence_transformers) (1.7.0+cu101)\n",
            "Requirement already satisfied: numpy in /usr/local/lib/python3.6/dist-packages (from sentence_transformers) (1.18.5)\n",
            "Requirement already satisfied: scikit-learn in /usr/local/lib/python3.6/dist-packages (from sentence_transformers) (0.22.2.post1)\n",
            "Requirement already satisfied: scipy in /usr/local/lib/python3.6/dist-packages (from sentence_transformers) (1.4.1)\n",
            "Requirement already satisfied: nltk in /usr/local/lib/python3.6/dist-packages (from sentence_transformers) (3.2.5)\n",
            "Requirement already satisfied: filelock in /usr/local/lib/python3.6/dist-packages (from transformers<3.4.0,>=3.1.0->sentence_transformers) (3.0.12)\n",
            "Collecting tokenizers==0.8.1.rc2\n",
            "\u001b[?25l  Downloading https://files.pythonhosted.org/packages/80/83/8b9fccb9e48eeb575ee19179e2bdde0ee9a1904f97de5f02d19016b8804f/tokenizers-0.8.1rc2-cp36-cp36m-manylinux1_x86_64.whl (3.0MB)\n",
            "\u001b[K     |████████████████████████████████| 3.0MB 38.8MB/s \n",
            "\u001b[?25hRequirement already satisfied: regex!=2019.12.17 in /usr/local/lib/python3.6/dist-packages (from transformers<3.4.0,>=3.1.0->sentence_transformers) (2019.12.20)\n",
            "Collecting sentencepiece!=0.1.92\n",
            "\u001b[?25l  Downloading https://files.pythonhosted.org/packages/e5/2d/6d4ca4bef9a67070fa1cac508606328329152b1df10bdf31fb6e4e727894/sentencepiece-0.1.94-cp36-cp36m-manylinux2014_x86_64.whl (1.1MB)\n",
            "\u001b[K     |████████████████████████████████| 1.1MB 44.2MB/s \n",
            "\u001b[?25hRequirement already satisfied: dataclasses; python_version < \"3.7\" in /usr/local/lib/python3.6/dist-packages (from transformers<3.4.0,>=3.1.0->sentence_transformers) (0.7)\n",
            "Requirement already satisfied: requests in /usr/local/lib/python3.6/dist-packages (from transformers<3.4.0,>=3.1.0->sentence_transformers) (2.23.0)\n",
            "Requirement already satisfied: packaging in /usr/local/lib/python3.6/dist-packages (from transformers<3.4.0,>=3.1.0->sentence_transformers) (20.4)\n",
            "Collecting sacremoses\n",
            "\u001b[?25l  Downloading https://files.pythonhosted.org/packages/7d/34/09d19aff26edcc8eb2a01bed8e98f13a1537005d31e95233fd48216eed10/sacremoses-0.0.43.tar.gz (883kB)\n",
            "\u001b[K     |████████████████████████████████| 890kB 23.1MB/s \n",
            "\u001b[?25hRequirement already satisfied: future in /usr/local/lib/python3.6/dist-packages (from torch>=1.2.0->sentence_transformers) (0.16.0)\n",
            "Requirement already satisfied: typing-extensions in /usr/local/lib/python3.6/dist-packages (from torch>=1.2.0->sentence_transformers) (3.7.4.3)\n",
            "Requirement already satisfied: joblib>=0.11 in /usr/local/lib/python3.6/dist-packages (from scikit-learn->sentence_transformers) (0.17.0)\n",
            "Requirement already satisfied: six in /usr/local/lib/python3.6/dist-packages (from nltk->sentence_transformers) (1.15.0)\n",
            "Requirement already satisfied: urllib3!=1.25.0,!=1.25.1,<1.26,>=1.21.1 in /usr/local/lib/python3.6/dist-packages (from requests->transformers<3.4.0,>=3.1.0->sentence_transformers) (1.24.3)\n",
            "Requirement already satisfied: certifi>=2017.4.17 in /usr/local/lib/python3.6/dist-packages (from requests->transformers<3.4.0,>=3.1.0->sentence_transformers) (2020.6.20)\n",
            "Requirement already satisfied: chardet<4,>=3.0.2 in /usr/local/lib/python3.6/dist-packages (from requests->transformers<3.4.0,>=3.1.0->sentence_transformers) (3.0.4)\n",
            "Requirement already satisfied: idna<3,>=2.5 in /usr/local/lib/python3.6/dist-packages (from requests->transformers<3.4.0,>=3.1.0->sentence_transformers) (2.10)\n",
            "Requirement already satisfied: pyparsing>=2.0.2 in /usr/local/lib/python3.6/dist-packages (from packaging->transformers<3.4.0,>=3.1.0->sentence_transformers) (2.4.7)\n",
            "Requirement already satisfied: click in /usr/local/lib/python3.6/dist-packages (from sacremoses->transformers<3.4.0,>=3.1.0->sentence_transformers) (7.1.2)\n",
            "Building wheels for collected packages: sentence-transformers, sacremoses\n",
            "  Building wheel for sentence-transformers (setup.py) ... \u001b[?25l\u001b[?25hdone\n",
            "  Created wheel for sentence-transformers: filename=sentence_transformers-0.3.8-cp36-none-any.whl size=101996 sha256=f0e736685f47725dc06b2273e597fa019243a9b158da4d3a6cc69830e92dc188\n",
            "  Stored in directory: /root/.cache/pip/wheels/27/ec/b3/d12cc8e4daf77846db6543033d3a5642f204c0320b15945647\n",
            "  Building wheel for sacremoses (setup.py) ... \u001b[?25l\u001b[?25hdone\n",
            "  Created wheel for sacremoses: filename=sacremoses-0.0.43-cp36-none-any.whl size=893257 sha256=4b1ede25ccbd6f19b94dc12d6aa0ffeb8a2cb6a7401a8e69a7b92678371bb20b\n",
            "  Stored in directory: /root/.cache/pip/wheels/29/3c/fd/7ce5c3f0666dab31a50123635e6fb5e19ceb42ce38d4e58f45\n",
            "Successfully built sentence-transformers sacremoses\n",
            "Installing collected packages: tokenizers, sentencepiece, sacremoses, transformers, sentence-transformers\n",
            "Successfully installed sacremoses-0.0.43 sentence-transformers-0.3.8 sentencepiece-0.1.94 tokenizers-0.8.1rc2 transformers-3.3.1\n"
          ],
          "name": "stdout"
        }
      ]
    },
    {
      "cell_type": "code",
      "metadata": {
        "id": "FR7f5mBp8K4E",
        "outputId": "72368be1-052b-4bd5-a8f5-13c9c9f715fd",
        "colab": {
          "base_uri": "https://localhost:8080/"
        }
      },
      "source": [
        "from sentence_transformers import SentenceTransformer\n",
        "sbert_model = SentenceTransformer('bert-base-nli-mean-tokens')\n"
      ],
      "execution_count": null,
      "outputs": [
        {
          "output_type": "stream",
          "text": [
            "100%|██████████| 405M/405M [00:46<00:00, 8.76MB/s]\n"
          ],
          "name": "stderr"
        }
      ]
    },
    {
      "cell_type": "code",
      "metadata": {
        "id": "KV5i1JcA81dQ"
      },
      "source": [],
      "execution_count": null,
      "outputs": []
    },
    {
      "cell_type": "code",
      "metadata": {
        "id": "8fR9Gnr1Om0-",
        "outputId": "04928e93-145c-48bc-d803-47688c049350",
        "colab": {
          "base_uri": "https://localhost:8080/"
        }
      },
      "source": [
        "from nltk.corpus import stopwords\n",
        "import nltk\n",
        "nltk.download('stopwords')\n"
      ],
      "execution_count": null,
      "outputs": [
        {
          "output_type": "stream",
          "text": [
            "[nltk_data] Downloading package stopwords to /root/nltk_data...\n",
            "[nltk_data]   Unzipping corpora/stopwords.zip.\n"
          ],
          "name": "stdout"
        },
        {
          "output_type": "execute_result",
          "data": {
            "text/plain": [
              "True"
            ]
          },
          "metadata": {
            "tags": []
          },
          "execution_count": 9
        }
      ]
    },
    {
      "cell_type": "code",
      "metadata": {
        "id": "gBMQNTANPXXu"
      },
      "source": [
        "### NLP1: remove stop word\n",
        "import re\n",
        "\n",
        "def clean_one_doc(x, stop_words):\n",
        "  return \" \".join(re.sub(r'[^a-zA-Z]',' ',w).lower() for w in x.split() if re.sub(r'[^a-zA-Z]',' ',w).lower() not in stop_words)\n",
        "\n",
        "# removing special characters and stop words from the text\n",
        "def clean_doc(doc_list, stop_words):\n",
        "  return [clean_one_doc(x, stop_words) for x in doc_list]\n",
        "\n",
        "def bert_embedding(doc_list, stop_words):\n",
        "  return sbert_model.encode(clean_doc(doc_list, stop_words))"
      ],
      "execution_count": null,
      "outputs": []
    },
    {
      "cell_type": "code",
      "metadata": {
        "id": "EY09B5EbP_Ty"
      },
      "source": [
        "from sklearn.metrics.pairwise import cosine_similarity\n",
        "\n",
        "stop_words_1=stopwords.words('english')\n",
        "vecs = bert_embedding(descriptions, stop_words_1)"
      ],
      "execution_count": null,
      "outputs": []
    },
    {
      "cell_type": "code",
      "metadata": {
        "id": "7EGpkAv13cQa",
        "outputId": "5c1d0dd2-e8bd-449c-f837-5c60793a9ae4",
        "colab": {
          "base_uri": "https://localhost:8080/"
        }
      },
      "source": [
        "vecs.shape"
      ],
      "execution_count": null,
      "outputs": [
        {
          "output_type": "execute_result",
          "data": {
            "text/plain": [
              "(155, 768)"
            ]
          },
          "metadata": {
            "tags": []
          },
          "execution_count": 13
        }
      ]
    },
    {
      "cell_type": "code",
      "metadata": {
        "id": "YWGygBdyStBF"
      },
      "source": [
        "X = cosine_similarity(vecs)\n"
      ],
      "execution_count": null,
      "outputs": []
    },
    {
      "cell_type": "code",
      "metadata": {
        "id": "FrQ350aVSxlX"
      },
      "source": [
        "from sklearn.cluster import KMeans\n",
        "kmeans = KMeans(n_clusters=13)\n",
        "kmeans.fit(X)\n",
        "y_kmeans = kmeans.predict(X)"
      ],
      "execution_count": null,
      "outputs": []
    },
    {
      "cell_type": "code",
      "metadata": {
        "id": "IT3ax551TSqz"
      },
      "source": [
        "rdf[\"K=13\"] = y_kmeans"
      ],
      "execution_count": null,
      "outputs": []
    },
    {
      "cell_type": "code",
      "metadata": {
        "id": "QU-L9iLtY-4g"
      },
      "source": [
        "\"\"\"\n",
        "Copied from https://medium.com/analytics-vidhya/how-to-determine-the-optimal-k-for-k-means-708505d204eb\n",
        "\"\"\"\n",
        "def calculate_WSS(points, kmax=50):\n",
        "  sse = []\n",
        "  for k in range(1, kmax+1):\n",
        "    kmeans = KMeans(n_clusters = k).fit(points)\n",
        "    centroids = kmeans.cluster_centers_\n",
        "    pred_clusters = kmeans.predict(points)\n",
        "    curr_sse = 0\n",
        "\n",
        "    # calculate square of Euclidean distance of each point from its cluster center and add to current WSS\n",
        "    for i in range(len(points)):\n",
        "      curr_center = centroids[pred_clusters[i]]\n",
        "      curr_sse += (points[i, 0] - curr_center[0]) ** 2 + (points[i, 1] - curr_center[1]) ** 2\n",
        "\n",
        "    sse.append(curr_sse)\n",
        "  return sse"
      ],
      "execution_count": null,
      "outputs": []
    },
    {
      "cell_type": "code",
      "metadata": {
        "id": "GfgKvjdyZTMz",
        "outputId": "f8a788f3-3613-4ef3-f926-f951000a0526",
        "colab": {
          "base_uri": "https://localhost:8080/"
        }
      },
      "source": [
        "wss = calculate_WSS(X, 100)\n",
        "wss"
      ],
      "execution_count": null,
      "outputs": [
        {
          "output_type": "execute_result",
          "data": {
            "text/plain": [
              "[1.8898975175074435,\n",
              " 1.8025939208287527,\n",
              " 1.627819594117601,\n",
              " 1.5250190908188168,\n",
              " 1.4559700480885613,\n",
              " 1.080578192000634,\n",
              " 1.0937710046800833,\n",
              " 0.9497051805764345,\n",
              " 0.7766570395863557,\n",
              " 1.0835109883065375,\n",
              " 1.0265869719847398,\n",
              " 0.7743517602075336,\n",
              " 0.9006328100807304,\n",
              " 0.6527497238419189,\n",
              " 0.6529983339631151,\n",
              " 0.6332959415181882,\n",
              " 0.6176579551896548,\n",
              " 0.6397465615655236,\n",
              " 0.6018530697801499,\n",
              " 0.6152852872734131,\n",
              " 0.6029278471280293,\n",
              " 0.5593744836446071,\n",
              " 0.5699355908305446,\n",
              " 0.5180782999653006,\n",
              " 0.4821354765232613,\n",
              " 0.4370175092092268,\n",
              " 0.4501105173515061,\n",
              " 0.4534498030072598,\n",
              " 0.44625409282937056,\n",
              " 0.47454975869735705,\n",
              " 0.4968969641439518,\n",
              " 0.4528427366269563,\n",
              " 0.4150269976709424,\n",
              " 0.4209821643536875,\n",
              " 0.4297681865651084,\n",
              " 0.4693788303482469,\n",
              " 0.4278483955744852,\n",
              " 0.37429354312747165,\n",
              " 0.36550739039746993,\n",
              " 0.34378087145965175,\n",
              " 0.33834970927973274,\n",
              " 0.33999940218352087,\n",
              " 0.321993197745007,\n",
              " 0.30988157973486885,\n",
              " 0.2763309767490387,\n",
              " 0.3025483690957893,\n",
              " 0.2780267108763219,\n",
              " 0.26566706514447436,\n",
              " 0.2450271253811609,\n",
              " 0.32018145305588774,\n",
              " 0.2617022278205239,\n",
              " 0.2794664654020016,\n",
              " 0.25127209194222555,\n",
              " 0.25090022186074723,\n",
              " 0.19288508651803848,\n",
              " 0.2257986164390715,\n",
              " 0.198907763294204,\n",
              " 0.19209324196958644,\n",
              " 0.1982834825805826,\n",
              " 0.21668546935093236,\n",
              " 0.18814871180105808,\n",
              " 0.19702556227986978,\n",
              " 0.18280274549348885,\n",
              " 0.17895371808021832,\n",
              " 0.14527723764431233,\n",
              " 0.17907004695679074,\n",
              " 0.13619318052704177,\n",
              " 0.1413554925690752,\n",
              " 0.13372407926363206,\n",
              " 0.133533793736631,\n",
              " 0.16816088389791606,\n",
              " 0.1310302244589936,\n",
              " 0.1412044007722253,\n",
              " 0.12451036632907808,\n",
              " 0.1151612544120093,\n",
              " 0.1108783061590346,\n",
              " 0.10313710233162521,\n",
              " 0.10165100157650109,\n",
              " 0.08460114479497971,\n",
              " 0.09803570049121735,\n",
              " 0.09500838616450658,\n",
              " 0.09625371295397578,\n",
              " 0.08624010517400471,\n",
              " 0.08838957561076022,\n",
              " 0.07841403453768514,\n",
              " 0.07764805068115344,\n",
              " 0.07569175773076431,\n",
              " 0.06667126312922456,\n",
              " 0.07548930039586033,\n",
              " 0.06287653808338423,\n",
              " 0.06404211033903984,\n",
              " 0.056109287774072314,\n",
              " 0.05342464709182515,\n",
              " 0.056904916611516754,\n",
              " 0.05798637456435962,\n",
              " 0.05432357196238957,\n",
              " 0.04423888909180285,\n",
              " 0.045565706981490095,\n",
              " 0.03546262993864069,\n",
              " 0.04118670064398877]"
            ]
          },
          "metadata": {
            "tags": []
          },
          "execution_count": 79
        }
      ]
    },
    {
      "cell_type": "code",
      "metadata": {
        "id": "8pMQbjXqcp8K",
        "outputId": "4f226167-6907-4692-a40f-763f325ecc9d",
        "colab": {
          "base_uri": "https://localhost:8080/",
          "height": 339
        }
      },
      "source": [
        "sns.lineplot(range(1, 101), wss)"
      ],
      "execution_count": null,
      "outputs": [
        {
          "output_type": "stream",
          "text": [
            "/usr/local/lib/python3.6/dist-packages/seaborn/_decorators.py:43: FutureWarning: Pass the following variables as keyword args: x, y. From version 0.12, the only valid positional argument will be `data`, and passing other arguments without an explicit keyword will result in an error or misinterpretation.\n",
            "  FutureWarning\n"
          ],
          "name": "stderr"
        },
        {
          "output_type": "execute_result",
          "data": {
            "text/plain": [
              "<matplotlib.axes._subplots.AxesSubplot at 0x7f9a5dd510b8>"
            ]
          },
          "metadata": {
            "tags": []
          },
          "execution_count": 80
        },
        {
          "output_type": "display_data",
          "data": {
            "image/png": "[encoded data removed]",
            "text/plain": [
              "<Figure size 432x288 with 1 Axes>"
            ]
          },
          "metadata": {
            "tags": []
          }
        }
      ]
    },
    {
      "cell_type": "code",
      "metadata": {
        "id": "ihp4T9qCY82J",
        "outputId": "a3831c75-07ee-4513-ab81-d2cfd7c43b73",
        "colab": {
          "base_uri": "https://localhost:8080/"
        }
      },
      "source": [
        "[10, 20, 50, 100, 200, 500] + list(range(1000, 10001, 1000))"
      ],
      "execution_count": null,
      "outputs": [
        {
          "output_type": "execute_result",
          "data": {
            "text/plain": [
              "[10,\n",
              " 20,\n",
              " 50,\n",
              " 100,\n",
              " 200,\n",
              " 500,\n",
              " 1000,\n",
              " 2000,\n",
              " 3000,\n",
              " 4000,\n",
              " 5000,\n",
              " 6000,\n",
              " 7000,\n",
              " 8000,\n",
              " 9000,\n",
              " 10000]"
            ]
          },
          "metadata": {
            "tags": []
          },
          "execution_count": 2
        }
      ]
    }
  ]
}