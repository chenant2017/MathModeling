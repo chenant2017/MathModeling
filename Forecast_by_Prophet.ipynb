{
  "nbformat": 4,
  "nbformat_minor": 0,
  "metadata": {
    "colab": {
      "provenance": [],
      "toc_visible": true,
      "include_colab_link": true
    },
    "kernelspec": {
      "name": "python3",
      "display_name": "Python 3"
    },
    "language_info": {
      "name": "python"
    },
    "widgets": {
      "application/vnd.jupyter.widget-state+json": {
        "e07cd66958f14715bfe4a0d872bc0893": {
          "model_module": "@jupyter-widgets/controls",
          "model_name": "HBoxModel",
          "model_module_version": "1.5.0",
          "state": {
            "_view_name": "HBoxView",
            "_dom_classes": [],
            "_model_name": "HBoxModel",
            "_view_module": "@jupyter-widgets/controls",
            "_model_module_version": "1.5.0",
            "_view_count": null,
            "_view_module_version": "1.5.0",
            "box_style": "",
            "layout": "IPY_MODEL_a41dbde28e1040a894ed40fd6b2e55e7",
            "_model_module": "@jupyter-widgets/controls",
            "children": [
              "IPY_MODEL_faf042b64a044210aaa4a16e42c12add",
              "IPY_MODEL_be006cdbb2c1466cb3ea0f215415a9b5",
              "IPY_MODEL_bc5896d28c084aff9e468122672da75e"
            ]
          }
        },
        "a41dbde28e1040a894ed40fd6b2e55e7": {
          "model_module": "@jupyter-widgets/base",
          "model_name": "LayoutModel",
          "model_module_version": "1.2.0",
          "state": {
            "_view_name": "LayoutView",
            "grid_template_rows": null,
            "right": null,
            "justify_content": null,
            "_view_module": "@jupyter-widgets/base",
            "overflow": null,
            "_model_module_version": "1.2.0",
            "_view_count": null,
            "flex_flow": null,
            "width": null,
            "min_width": null,
            "border": null,
            "align_items": null,
            "bottom": null,
            "_model_module": "@jupyter-widgets/base",
            "top": null,
            "grid_column": null,
            "overflow_y": null,
            "overflow_x": null,
            "grid_auto_flow": null,
            "grid_area": null,
            "grid_template_columns": null,
            "flex": null,
            "_model_name": "LayoutModel",
            "justify_items": null,
            "grid_row": null,
            "max_height": null,
            "align_content": null,
            "visibility": null,
            "align_self": null,
            "height": null,
            "min_height": null,
            "padding": null,
            "grid_auto_rows": null,
            "grid_gap": null,
            "max_width": null,
            "order": null,
            "_view_module_version": "1.2.0",
            "grid_template_areas": null,
            "object_position": null,
            "object_fit": null,
            "grid_auto_columns": null,
            "margin": null,
            "display": null,
            "left": null
          }
        },
        "faf042b64a044210aaa4a16e42c12add": {
          "model_module": "@jupyter-widgets/controls",
          "model_name": "HTMLModel",
          "model_module_version": "1.5.0",
          "state": {
            "_view_name": "HTMLView",
            "style": "IPY_MODEL_350a6b6a11f643fca2caaedb82845132",
            "_dom_classes": [],
            "description": "",
            "_model_name": "HTMLModel",
            "placeholder": "​",
            "_view_module": "@jupyter-widgets/controls",
            "_model_module_version": "1.5.0",
            "value": "100%",
            "_view_count": null,
            "_view_module_version": "1.5.0",
            "description_tooltip": null,
            "_model_module": "@jupyter-widgets/controls",
            "layout": "IPY_MODEL_ff8174d442bf476e9b176d5ee8218224"
          }
        },
        "be006cdbb2c1466cb3ea0f215415a9b5": {
          "model_module": "@jupyter-widgets/controls",
          "model_name": "FloatProgressModel",
          "model_module_version": "1.5.0",
          "state": {
            "_view_name": "ProgressView",
            "style": "IPY_MODEL_3835d699f2e64beaac9d3e2dee003b21",
            "_dom_classes": [],
            "description": "",
            "_model_name": "FloatProgressModel",
            "bar_style": "success",
            "max": 8,
            "_view_module": "@jupyter-widgets/controls",
            "_model_module_version": "1.5.0",
            "value": 8,
            "_view_count": null,
            "_view_module_version": "1.5.0",
            "orientation": "horizontal",
            "min": 0,
            "description_tooltip": null,
            "_model_module": "@jupyter-widgets/controls",
            "layout": "IPY_MODEL_8eae171c996f4a75b8544bc2119d4aeb"
          }
        },
        "bc5896d28c084aff9e468122672da75e": {
          "model_module": "@jupyter-widgets/controls",
          "model_name": "HTMLModel",
          "model_module_version": "1.5.0",
          "state": {
            "_view_name": "HTMLView",
            "style": "IPY_MODEL_b2fd24f632db47a2b4e128571b6fa16b",
            "_dom_classes": [],
            "description": "",
            "_model_name": "HTMLModel",
            "placeholder": "​",
            "_view_module": "@jupyter-widgets/controls",
            "_model_module_version": "1.5.0",
            "value": " 8/8 [00:17&lt;00:00,  2.20s/it]",
            "_view_count": null,
            "_view_module_version": "1.5.0",
            "description_tooltip": null,
            "_model_module": "@jupyter-widgets/controls",
            "layout": "IPY_MODEL_20080f5633fb4f93b26bfcbd669f84c2"
          }
        },
        "350a6b6a11f643fca2caaedb82845132": {
          "model_module": "@jupyter-widgets/controls",
          "model_name": "DescriptionStyleModel",
          "model_module_version": "1.5.0",
          "state": {
            "_view_name": "StyleView",
            "_model_name": "DescriptionStyleModel",
            "description_width": "",
            "_view_module": "@jupyter-widgets/base",
            "_model_module_version": "1.5.0",
            "_view_count": null,
            "_view_module_version": "1.2.0",
            "_model_module": "@jupyter-widgets/controls"
          }
        },
        "ff8174d442bf476e9b176d5ee8218224": {
          "model_module": "@jupyter-widgets/base",
          "model_name": "LayoutModel",
          "model_module_version": "1.2.0",
          "state": {
            "_view_name": "LayoutView",
            "grid_template_rows": null,
            "right": null,
            "justify_content": null,
            "_view_module": "@jupyter-widgets/base",
            "overflow": null,
            "_model_module_version": "1.2.0",
            "_view_count": null,
            "flex_flow": null,
            "width": null,
            "min_width": null,
            "border": null,
            "align_items": null,
            "bottom": null,
            "_model_module": "@jupyter-widgets/base",
            "top": null,
            "grid_column": null,
            "overflow_y": null,
            "overflow_x": null,
            "grid_auto_flow": null,
            "grid_area": null,
            "grid_template_columns": null,
            "flex": null,
            "_model_name": "LayoutModel",
            "justify_items": null,
            "grid_row": null,
            "max_height": null,
            "align_content": null,
            "visibility": null,
            "align_self": null,
            "height": null,
            "min_height": null,
            "padding": null,
            "grid_auto_rows": null,
            "grid_gap": null,
            "max_width": null,
            "order": null,
            "_view_module_version": "1.2.0",
            "grid_template_areas": null,
            "object_position": null,
            "object_fit": null,
            "grid_auto_columns": null,
            "margin": null,
            "display": null,
            "left": null
          }
        },
        "3835d699f2e64beaac9d3e2dee003b21": {
          "model_module": "@jupyter-widgets/controls",
          "model_name": "ProgressStyleModel",
          "model_module_version": "1.5.0",
          "state": {
            "_view_name": "StyleView",
            "_model_name": "ProgressStyleModel",
            "description_width": "",
            "_view_module": "@jupyter-widgets/base",
            "_model_module_version": "1.5.0",
            "_view_count": null,
            "_view_module_version": "1.2.0",
            "bar_color": null,
            "_model_module": "@jupyter-widgets/controls"
          }
        },
        "8eae171c996f4a75b8544bc2119d4aeb": {
          "model_module": "@jupyter-widgets/base",
          "model_name": "LayoutModel",
          "model_module_version": "1.2.0",
          "state": {
            "_view_name": "LayoutView",
            "grid_template_rows": null,
            "right": null,
            "justify_content": null,
            "_view_module": "@jupyter-widgets/base",
            "overflow": null,
            "_model_module_version": "1.2.0",
            "_view_count": null,
            "flex_flow": null,
            "width": null,
            "min_width": null,
            "border": null,
            "align_items": null,
            "bottom": null,
            "_model_module": "@jupyter-widgets/base",
            "top": null,
            "grid_column": null,
            "overflow_y": null,
            "overflow_x": null,
            "grid_auto_flow": null,
            "grid_area": null,
            "grid_template_columns": null,
            "flex": null,
            "_model_name": "LayoutModel",
            "justify_items": null,
            "grid_row": null,
            "max_height": null,
            "align_content": null,
            "visibility": null,
            "align_self": null,
            "height": null,
            "min_height": null,
            "padding": null,
            "grid_auto_rows": null,
            "grid_gap": null,
            "max_width": null,
            "order": null,
            "_view_module_version": "1.2.0",
            "grid_template_areas": null,
            "object_position": null,
            "object_fit": null,
            "grid_auto_columns": null,
            "margin": null,
            "display": null,
            "left": null
          }
        },
        "b2fd24f632db47a2b4e128571b6fa16b": {
          "model_module": "@jupyter-widgets/controls",
          "model_name": "DescriptionStyleModel",
          "model_module_version": "1.5.0",
          "state": {
            "_view_name": "StyleView",
            "_model_name": "DescriptionStyleModel",
            "description_width": "",
            "_view_module": "@jupyter-widgets/base",
            "_model_module_version": "1.5.0",
            "_view_count": null,
            "_view_module_version": "1.2.0",
            "_model_module": "@jupyter-widgets/controls"
          }
        },
        "20080f5633fb4f93b26bfcbd669f84c2": {
          "model_module": "@jupyter-widgets/base",
          "model_name": "LayoutModel",
          "model_module_version": "1.2.0",
          "state": {
            "_view_name": "LayoutView",
            "grid_template_rows": null,
            "right": null,
            "justify_content": null,
            "_view_module": "@jupyter-widgets/base",
            "overflow": null,
            "_model_module_version": "1.2.0",
            "_view_count": null,
            "flex_flow": null,
            "width": null,
            "min_width": null,
            "border": null,
            "align_items": null,
            "bottom": null,
            "_model_module": "@jupyter-widgets/base",
            "top": null,
            "grid_column": null,
            "overflow_y": null,
            "overflow_x": null,
            "grid_auto_flow": null,
            "grid_area": null,
            "grid_template_columns": null,
            "flex": null,
            "_model_name": "LayoutModel",
            "justify_items": null,
            "grid_row": null,
            "max_height": null,
            "align_content": null,
            "visibility": null,
            "align_self": null,
            "height": null,
            "min_height": null,
            "padding": null,
            "grid_auto_rows": null,
            "grid_gap": null,
            "max_width": null,
            "order": null,
            "_view_module_version": "1.2.0",
            "grid_template_areas": null,
            "object_position": null,
            "object_fit": null,
            "grid_auto_columns": null,
            "margin": null,
            "display": null,
            "left": null
          }
        },
        "d69dda7843a34ab19759817cae3884d2": {
          "model_module": "@jupyter-widgets/controls",
          "model_name": "HBoxModel",
          "model_module_version": "1.5.0",
          "state": {
            "_view_name": "HBoxView",
            "_dom_classes": [],
            "_model_name": "HBoxModel",
            "_view_module": "@jupyter-widgets/controls",
            "_model_module_version": "1.5.0",
            "_view_count": null,
            "_view_module_version": "1.5.0",
            "box_style": "",
            "layout": "IPY_MODEL_cdc86e58d6f148658a3b541e326f4c6c",
            "_model_module": "@jupyter-widgets/controls",
            "children": [
              "IPY_MODEL_833ca187b38044088d4a115efef9aa67",
              "IPY_MODEL_5c4e5209f5174a589fa7ecaca42979f6",
              "IPY_MODEL_d1a40acffdbf43b8a19024deed238c93"
            ]
          }
        },
        "cdc86e58d6f148658a3b541e326f4c6c": {
          "model_module": "@jupyter-widgets/base",
          "model_name": "LayoutModel",
          "model_module_version": "1.2.0",
          "state": {
            "_view_name": "LayoutView",
            "grid_template_rows": null,
            "right": null,
            "justify_content": null,
            "_view_module": "@jupyter-widgets/base",
            "overflow": null,
            "_model_module_version": "1.2.0",
            "_view_count": null,
            "flex_flow": null,
            "width": null,
            "min_width": null,
            "border": null,
            "align_items": null,
            "bottom": null,
            "_model_module": "@jupyter-widgets/base",
            "top": null,
            "grid_column": null,
            "overflow_y": null,
            "overflow_x": null,
            "grid_auto_flow": null,
            "grid_area": null,
            "grid_template_columns": null,
            "flex": null,
            "_model_name": "LayoutModel",
            "justify_items": null,
            "grid_row": null,
            "max_height": null,
            "align_content": null,
            "visibility": null,
            "align_self": null,
            "height": null,
            "min_height": null,
            "padding": null,
            "grid_auto_rows": null,
            "grid_gap": null,
            "max_width": null,
            "order": null,
            "_view_module_version": "1.2.0",
            "grid_template_areas": null,
            "object_position": null,
            "object_fit": null,
            "grid_auto_columns": null,
            "margin": null,
            "display": null,
            "left": null
          }
        },
        "833ca187b38044088d4a115efef9aa67": {
          "model_module": "@jupyter-widgets/controls",
          "model_name": "HTMLModel",
          "model_module_version": "1.5.0",
          "state": {
            "_view_name": "HTMLView",
            "style": "IPY_MODEL_974271162fc34e9c85d6d1431baa8054",
            "_dom_classes": [],
            "description": "",
            "_model_name": "HTMLModel",
            "placeholder": "​",
            "_view_module": "@jupyter-widgets/controls",
            "_model_module_version": "1.5.0",
            "value": "100%",
            "_view_count": null,
            "_view_module_version": "1.5.0",
            "description_tooltip": null,
            "_model_module": "@jupyter-widgets/controls",
            "layout": "IPY_MODEL_464909281bda4ae2a0ed0dd8ddef99db"
          }
        },
        "5c4e5209f5174a589fa7ecaca42979f6": {
          "model_module": "@jupyter-widgets/controls",
          "model_name": "FloatProgressModel",
          "model_module_version": "1.5.0",
          "state": {
            "_view_name": "ProgressView",
            "style": "IPY_MODEL_927a40f2dc064152ad98fc6d7099a87e",
            "_dom_classes": [],
            "description": "",
            "_model_name": "FloatProgressModel",
            "bar_style": "success",
            "max": 8,
            "_view_module": "@jupyter-widgets/controls",
            "_model_module_version": "1.5.0",
            "value": 8,
            "_view_count": null,
            "_view_module_version": "1.5.0",
            "orientation": "horizontal",
            "min": 0,
            "description_tooltip": null,
            "_model_module": "@jupyter-widgets/controls",
            "layout": "IPY_MODEL_bfbc59026b004a28974bd1676fd53ad0"
          }
        },
        "d1a40acffdbf43b8a19024deed238c93": {
          "model_module": "@jupyter-widgets/controls",
          "model_name": "HTMLModel",
          "model_module_version": "1.5.0",
          "state": {
            "_view_name": "HTMLView",
            "style": "IPY_MODEL_b0480ae8375345058fbec79979e9ec27",
            "_dom_classes": [],
            "description": "",
            "_model_name": "HTMLModel",
            "placeholder": "​",
            "_view_module": "@jupyter-widgets/controls",
            "_model_module_version": "1.5.0",
            "value": " 8/8 [00:20&lt;00:00,  2.57s/it]",
            "_view_count": null,
            "_view_module_version": "1.5.0",
            "description_tooltip": null,
            "_model_module": "@jupyter-widgets/controls",
            "layout": "IPY_MODEL_e007758ca05741c998af224503e9d6e0"
          }
        },
        "974271162fc34e9c85d6d1431baa8054": {
          "model_module": "@jupyter-widgets/controls",
          "model_name": "DescriptionStyleModel",
          "model_module_version": "1.5.0",
          "state": {
            "_view_name": "StyleView",
            "_model_name": "DescriptionStyleModel",
            "description_width": "",
            "_view_module": "@jupyter-widgets/base",
            "_model_module_version": "1.5.0",
            "_view_count": null,
            "_view_module_version": "1.2.0",
            "_model_module": "@jupyter-widgets/controls"
          }
        },
        "464909281bda4ae2a0ed0dd8ddef99db": {
          "model_module": "@jupyter-widgets/base",
          "model_name": "LayoutModel",
          "model_module_version": "1.2.0",
          "state": {
            "_view_name": "LayoutView",
            "grid_template_rows": null,
            "right": null,
            "justify_content": null,
            "_view_module": "@jupyter-widgets/base",
            "overflow": null,
            "_model_module_version": "1.2.0",
            "_view_count": null,
            "flex_flow": null,
            "width": null,
            "min_width": null,
            "border": null,
            "align_items": null,
            "bottom": null,
            "_model_module": "@jupyter-widgets/base",
            "top": null,
            "grid_column": null,
            "overflow_y": null,
            "overflow_x": null,
            "grid_auto_flow": null,
            "grid_area": null,
            "grid_template_columns": null,
            "flex": null,
            "_model_name": "LayoutModel",
            "justify_items": null,
            "grid_row": null,
            "max_height": null,
            "align_content": null,
            "visibility": null,
            "align_self": null,
            "height": null,
            "min_height": null,
            "padding": null,
            "grid_auto_rows": null,
            "grid_gap": null,
            "max_width": null,
            "order": null,
            "_view_module_version": "1.2.0",
            "grid_template_areas": null,
            "object_position": null,
            "object_fit": null,
            "grid_auto_columns": null,
            "margin": null,
            "display": null,
            "left": null
          }
        },
        "927a40f2dc064152ad98fc6d7099a87e": {
          "model_module": "@jupyter-widgets/controls",
          "model_name": "ProgressStyleModel",
          "model_module_version": "1.5.0",
          "state": {
            "_view_name": "StyleView",
            "_model_name": "ProgressStyleModel",
            "description_width": "",
            "_view_module": "@jupyter-widgets/base",
            "_model_module_version": "1.5.0",
            "_view_count": null,
            "_view_module_version": "1.2.0",
            "bar_color": null,
            "_model_module": "@jupyter-widgets/controls"
          }
        },
        "bfbc59026b004a28974bd1676fd53ad0": {
          "model_module": "@jupyter-widgets/base",
          "model_name": "LayoutModel",
          "model_module_version": "1.2.0",
          "state": {
            "_view_name": "LayoutView",
            "grid_template_rows": null,
            "right": null,
            "justify_content": null,
            "_view_module": "@jupyter-widgets/base",
            "overflow": null,
            "_model_module_version": "1.2.0",
            "_view_count": null,
            "flex_flow": null,
            "width": null,
            "min_width": null,
            "border": null,
            "align_items": null,
            "bottom": null,
            "_model_module": "@jupyter-widgets/base",
            "top": null,
            "grid_column": null,
            "overflow_y": null,
            "overflow_x": null,
            "grid_auto_flow": null,
            "grid_area": null,
            "grid_template_columns": null,
            "flex": null,
            "_model_name": "LayoutModel",
            "justify_items": null,
            "grid_row": null,
            "max_height": null,
            "align_content": null,
            "visibility": null,
            "align_self": null,
            "height": null,
            "min_height": null,
            "padding": null,
            "grid_auto_rows": null,
            "grid_gap": null,
            "max_width": null,
            "order": null,
            "_view_module_version": "1.2.0",
            "grid_template_areas": null,
            "object_position": null,
            "object_fit": null,
            "grid_auto_columns": null,
            "margin": null,
            "display": null,
            "left": null
          }
        },
        "b0480ae8375345058fbec79979e9ec27": {
          "model_module": "@jupyter-widgets/controls",
          "model_name": "DescriptionStyleModel",
          "model_module_version": "1.5.0",
          "state": {
            "_view_name": "StyleView",
            "_model_name": "DescriptionStyleModel",
            "description_width": "",
            "_view_module": "@jupyter-widgets/base",
            "_model_module_version": "1.5.0",
            "_view_count": null,
            "_view_module_version": "1.2.0",
            "_model_module": "@jupyter-widgets/controls"
          }
        },
        "e007758ca05741c998af224503e9d6e0": {
          "model_module": "@jupyter-widgets/base",
          "model_name": "LayoutModel",
          "model_module_version": "1.2.0",
          "state": {
            "_view_name": "LayoutView",
            "grid_template_rows": null,
            "right": null,
            "justify_content": null,
            "_view_module": "@jupyter-widgets/base",
            "overflow": null,
            "_model_module_version": "1.2.0",
            "_view_count": null,
            "flex_flow": null,
            "width": null,
            "min_width": null,
            "border": null,
            "align_items": null,
            "bottom": null,
            "_model_module": "@jupyter-widgets/base",
            "top": null,
            "grid_column": null,
            "overflow_y": null,
            "overflow_x": null,
            "grid_auto_flow": null,
            "grid_area": null,
            "grid_template_columns": null,
            "flex": null,
            "_model_name": "LayoutModel",
            "justify_items": null,
            "grid_row": null,
            "max_height": null,
            "align_content": null,
            "visibility": null,
            "align_self": null,
            "height": null,
            "min_height": null,
            "padding": null,
            "grid_auto_rows": null,
            "grid_gap": null,
            "max_width": null,
            "order": null,
            "_view_module_version": "1.2.0",
            "grid_template_areas": null,
            "object_position": null,
            "object_fit": null,
            "grid_auto_columns": null,
            "margin": null,
            "display": null,
            "left": null
          }
        },
        "191491cd71874a0ca6dbb19045529383": {
          "model_module": "@jupyter-widgets/controls",
          "model_name": "HBoxModel",
          "model_module_version": "1.5.0",
          "state": {
            "_view_name": "HBoxView",
            "_dom_classes": [],
            "_model_name": "HBoxModel",
            "_view_module": "@jupyter-widgets/controls",
            "_model_module_version": "1.5.0",
            "_view_count": null,
            "_view_module_version": "1.5.0",
            "box_style": "",
            "layout": "IPY_MODEL_35209f206dae4cb6b23624e680a8c94d",
            "_model_module": "@jupyter-widgets/controls",
            "children": [
              "IPY_MODEL_fe0ea08e9d2e4d469adbd8462415e4a6",
              "IPY_MODEL_2e93b21a981e459083a9ae448b3a44d6",
              "IPY_MODEL_28ee5d161c1e4ef399bfbef948715c3f"
            ]
          }
        },
        "35209f206dae4cb6b23624e680a8c94d": {
          "model_module": "@jupyter-widgets/base",
          "model_name": "LayoutModel",
          "model_module_version": "1.2.0",
          "state": {
            "_view_name": "LayoutView",
            "grid_template_rows": null,
            "right": null,
            "justify_content": null,
            "_view_module": "@jupyter-widgets/base",
            "overflow": null,
            "_model_module_version": "1.2.0",
            "_view_count": null,
            "flex_flow": null,
            "width": null,
            "min_width": null,
            "border": null,
            "align_items": null,
            "bottom": null,
            "_model_module": "@jupyter-widgets/base",
            "top": null,
            "grid_column": null,
            "overflow_y": null,
            "overflow_x": null,
            "grid_auto_flow": null,
            "grid_area": null,
            "grid_template_columns": null,
            "flex": null,
            "_model_name": "LayoutModel",
            "justify_items": null,
            "grid_row": null,
            "max_height": null,
            "align_content": null,
            "visibility": null,
            "align_self": null,
            "height": null,
            "min_height": null,
            "padding": null,
            "grid_auto_rows": null,
            "grid_gap": null,
            "max_width": null,
            "order": null,
            "_view_module_version": "1.2.0",
            "grid_template_areas": null,
            "object_position": null,
            "object_fit": null,
            "grid_auto_columns": null,
            "margin": null,
            "display": null,
            "left": null
          }
        },
        "fe0ea08e9d2e4d469adbd8462415e4a6": {
          "model_module": "@jupyter-widgets/controls",
          "model_name": "HTMLModel",
          "model_module_version": "1.5.0",
          "state": {
            "_view_name": "HTMLView",
            "style": "IPY_MODEL_beb28abdb6a34256b01c7b3dec12ebff",
            "_dom_classes": [],
            "description": "",
            "_model_name": "HTMLModel",
            "placeholder": "​",
            "_view_module": "@jupyter-widgets/controls",
            "_model_module_version": "1.5.0",
            "value": "100%",
            "_view_count": null,
            "_view_module_version": "1.5.0",
            "description_tooltip": null,
            "_model_module": "@jupyter-widgets/controls",
            "layout": "IPY_MODEL_1d0121a60db4467c99592cea325fcd71"
          }
        },
        "2e93b21a981e459083a9ae448b3a44d6": {
          "model_module": "@jupyter-widgets/controls",
          "model_name": "FloatProgressModel",
          "model_module_version": "1.5.0",
          "state": {
            "_view_name": "ProgressView",
            "style": "IPY_MODEL_7f6e88d8297645f7bebf109c85d93e17",
            "_dom_classes": [],
            "description": "",
            "_model_name": "FloatProgressModel",
            "bar_style": "success",
            "max": 8,
            "_view_module": "@jupyter-widgets/controls",
            "_model_module_version": "1.5.0",
            "value": 8,
            "_view_count": null,
            "_view_module_version": "1.5.0",
            "orientation": "horizontal",
            "min": 0,
            "description_tooltip": null,
            "_model_module": "@jupyter-widgets/controls",
            "layout": "IPY_MODEL_2a19c62a31f9455ea4ae8e0b35b3afb9"
          }
        },
        "28ee5d161c1e4ef399bfbef948715c3f": {
          "model_module": "@jupyter-widgets/controls",
          "model_name": "HTMLModel",
          "model_module_version": "1.5.0",
          "state": {
            "_view_name": "HTMLView",
            "style": "IPY_MODEL_c5e4559518c24c72b6d7b1fd7c54306d",
            "_dom_classes": [],
            "description": "",
            "_model_name": "HTMLModel",
            "placeholder": "​",
            "_view_module": "@jupyter-widgets/controls",
            "_model_module_version": "1.5.0",
            "value": " 8/8 [00:20&lt;00:00,  2.52s/it]",
            "_view_count": null,
            "_view_module_version": "1.5.0",
            "description_tooltip": null,
            "_model_module": "@jupyter-widgets/controls",
            "layout": "IPY_MODEL_5e5715ea553f420ea01c51adc16b7939"
          }
        },
        "beb28abdb6a34256b01c7b3dec12ebff": {
          "model_module": "@jupyter-widgets/controls",
          "model_name": "DescriptionStyleModel",
          "model_module_version": "1.5.0",
          "state": {
            "_view_name": "StyleView",
            "_model_name": "DescriptionStyleModel",
            "description_width": "",
            "_view_module": "@jupyter-widgets/base",
            "_model_module_version": "1.5.0",
            "_view_count": null,
            "_view_module_version": "1.2.0",
            "_model_module": "@jupyter-widgets/controls"
          }
        },
        "1d0121a60db4467c99592cea325fcd71": {
          "model_module": "@jupyter-widgets/base",
          "model_name": "LayoutModel",
          "model_module_version": "1.2.0",
          "state": {
            "_view_name": "LayoutView",
            "grid_template_rows": null,
            "right": null,
            "justify_content": null,
            "_view_module": "@jupyter-widgets/base",
            "overflow": null,
            "_model_module_version": "1.2.0",
            "_view_count": null,
            "flex_flow": null,
            "width": null,
            "min_width": null,
            "border": null,
            "align_items": null,
            "bottom": null,
            "_model_module": "@jupyter-widgets/base",
            "top": null,
            "grid_column": null,
            "overflow_y": null,
            "overflow_x": null,
            "grid_auto_flow": null,
            "grid_area": null,
            "grid_template_columns": null,
            "flex": null,
            "_model_name": "LayoutModel",
            "justify_items": null,
            "grid_row": null,
            "max_height": null,
            "align_content": null,
            "visibility": null,
            "align_self": null,
            "height": null,
            "min_height": null,
            "padding": null,
            "grid_auto_rows": null,
            "grid_gap": null,
            "max_width": null,
            "order": null,
            "_view_module_version": "1.2.0",
            "grid_template_areas": null,
            "object_position": null,
            "object_fit": null,
            "grid_auto_columns": null,
            "margin": null,
            "display": null,
            "left": null
          }
        },
        "7f6e88d8297645f7bebf109c85d93e17": {
          "model_module": "@jupyter-widgets/controls",
          "model_name": "ProgressStyleModel",
          "model_module_version": "1.5.0",
          "state": {
            "_view_name": "StyleView",
            "_model_name": "ProgressStyleModel",
            "description_width": "",
            "_view_module": "@jupyter-widgets/base",
            "_model_module_version": "1.5.0",
            "_view_count": null,
            "_view_module_version": "1.2.0",
            "bar_color": null,
            "_model_module": "@jupyter-widgets/controls"
          }
        },
        "2a19c62a31f9455ea4ae8e0b35b3afb9": {
          "model_module": "@jupyter-widgets/base",
          "model_name": "LayoutModel",
          "model_module_version": "1.2.0",
          "state": {
            "_view_name": "LayoutView",
            "grid_template_rows": null,
            "right": null,
            "justify_content": null,
            "_view_module": "@jupyter-widgets/base",
            "overflow": null,
            "_model_module_version": "1.2.0",
            "_view_count": null,
            "flex_flow": null,
            "width": null,
            "min_width": null,
            "border": null,
            "align_items": null,
            "bottom": null,
            "_model_module": "@jupyter-widgets/base",
            "top": null,
            "grid_column": null,
            "overflow_y": null,
            "overflow_x": null,
            "grid_auto_flow": null,
            "grid_area": null,
            "grid_template_columns": null,
            "flex": null,
            "_model_name": "LayoutModel",
            "justify_items": null,
            "grid_row": null,
            "max_height": null,
            "align_content": null,
            "visibility": null,
            "align_self": null,
            "height": null,
            "min_height": null,
            "padding": null,
            "grid_auto_rows": null,
            "grid_gap": null,
            "max_width": null,
            "order": null,
            "_view_module_version": "1.2.0",
            "grid_template_areas": null,
            "object_position": null,
            "object_fit": null,
            "grid_auto_columns": null,
            "margin": null,
            "display": null,
            "left": null
          }
        },
        "c5e4559518c24c72b6d7b1fd7c54306d": {
          "model_module": "@jupyter-widgets/controls",
          "model_name": "DescriptionStyleModel",
          "model_module_version": "1.5.0",
          "state": {
            "_view_name": "StyleView",
            "_model_name": "DescriptionStyleModel",
            "description_width": "",
            "_view_module": "@jupyter-widgets/base",
            "_model_module_version": "1.5.0",
            "_view_count": null,
            "_view_module_version": "1.2.0",
            "_model_module": "@jupyter-widgets/controls"
          }
        },
        "5e5715ea553f420ea01c51adc16b7939": {
          "model_module": "@jupyter-widgets/base",
          "model_name": "LayoutModel",
          "model_module_version": "1.2.0",
          "state": {
            "_view_name": "LayoutView",
            "grid_template_rows": null,
            "right": null,
            "justify_content": null,
            "_view_module": "@jupyter-widgets/base",
            "overflow": null,
            "_model_module_version": "1.2.0",
            "_view_count": null,
            "flex_flow": null,
            "width": null,
            "min_width": null,
            "border": null,
            "align_items": null,
            "bottom": null,
            "_model_module": "@jupyter-widgets/base",
            "top": null,
            "grid_column": null,
            "overflow_y": null,
            "overflow_x": null,
            "grid_auto_flow": null,
            "grid_area": null,
            "grid_template_columns": null,
            "flex": null,
            "_model_name": "LayoutModel",
            "justify_items": null,
            "grid_row": null,
            "max_height": null,
            "align_content": null,
            "visibility": null,
            "align_self": null,
            "height": null,
            "min_height": null,
            "padding": null,
            "grid_auto_rows": null,
            "grid_gap": null,
            "max_width": null,
            "order": null,
            "_view_module_version": "1.2.0",
            "grid_template_areas": null,
            "object_position": null,
            "object_fit": null,
            "grid_auto_columns": null,
            "margin": null,
            "display": null,
            "left": null
          }
        }
      }
    }
  },
  "cells": [
    {
      "cell_type": "markdown",
      "metadata": {
        "id": "view-in-github",
        "colab_type": "text"
      },
      "source": [
        "<a href=\"https://colab.research.google.com/github/chenant2017/MathModeling/blob/main/Forecast_by_Prophet.ipynb\" target=\"_parent\"><img src=\"https://colab.research.google.com/assets/colab-badge.svg\" alt=\"Open In Colab\"/></a>"
      ]
    },
    {
      "cell_type": "markdown",
      "metadata": {
        "id": "T405NyWEMd_G"
      },
      "source": [
        "Reference: https://medium.com/@cdabakoglu/time-series-forecasting-arima-lstm-prophet-with-python-e73a750a9887"
      ]
    },
    {
      "cell_type": "code",
      "metadata": {
        "colab": {
          "base_uri": "https://localhost:8080/"
        },
        "id": "c5vQJUXpjodO",
        "outputId": "f8398262-122b-402e-b619-f071fcf0997b"
      },
      "source": [
        "!pip install pystan==2.19.1.1"
      ],
      "execution_count": null,
      "outputs": [
        {
          "output_type": "stream",
          "name": "stdout",
          "text": [
            "Requirement already satisfied: pystan==2.19.1.1 in /usr/local/lib/python3.7/dist-packages (2.19.1.1)\n",
            "Requirement already satisfied: numpy>=1.7 in /usr/local/lib/python3.7/dist-packages (from pystan==2.19.1.1) (1.19.5)\n",
            "Requirement already satisfied: Cython!=0.25.1,>=0.22 in /usr/local/lib/python3.7/dist-packages (from pystan==2.19.1.1) (0.29.24)\n"
          ]
        }
      ]
    },
    {
      "cell_type": "code",
      "metadata": {
        "colab": {
          "base_uri": "https://localhost:8080/"
        },
        "id": "ogIhNLUvj_zw",
        "outputId": "54d92062-c171-43ba-a2e8-a7e784957a95"
      },
      "source": [
        "!pip install prophet"
      ],
      "execution_count": null,
      "outputs": [
        {
          "output_type": "stream",
          "name": "stdout",
          "text": [
            "Collecting prophet\n",
            "  Downloading prophet-1.0.1.tar.gz (65 kB)\n",
            "\u001b[K     |████████████████████████████████| 65 kB 1.9 MB/s \n",
            "\u001b[?25hRequirement already satisfied: Cython>=0.22 in /usr/local/lib/python3.7/dist-packages (from prophet) (0.29.24)\n",
            "Collecting cmdstanpy==0.9.68\n",
            "  Downloading cmdstanpy-0.9.68-py3-none-any.whl (49 kB)\n",
            "\u001b[K     |████████████████████████████████| 49 kB 5.0 MB/s \n",
            "\u001b[?25hRequirement already satisfied: pystan~=2.19.1.1 in /usr/local/lib/python3.7/dist-packages (from prophet) (2.19.1.1)\n",
            "Requirement already satisfied: numpy>=1.15.4 in /usr/local/lib/python3.7/dist-packages (from prophet) (1.19.5)\n",
            "Requirement already satisfied: pandas>=1.0.4 in /usr/local/lib/python3.7/dist-packages (from prophet) (1.1.5)\n",
            "Requirement already satisfied: matplotlib>=2.0.0 in /usr/local/lib/python3.7/dist-packages (from prophet) (3.2.2)\n",
            "Requirement already satisfied: LunarCalendar>=0.0.9 in /usr/local/lib/python3.7/dist-packages (from prophet) (0.0.9)\n",
            "Requirement already satisfied: convertdate>=2.1.2 in /usr/local/lib/python3.7/dist-packages (from prophet) (2.3.2)\n",
            "Requirement already satisfied: holidays>=0.10.2 in /usr/local/lib/python3.7/dist-packages (from prophet) (0.10.5.2)\n",
            "Requirement already satisfied: setuptools-git>=1.2 in /usr/local/lib/python3.7/dist-packages (from prophet) (1.2)\n",
            "Requirement already satisfied: python-dateutil>=2.8.0 in /usr/local/lib/python3.7/dist-packages (from prophet) (2.8.2)\n",
            "Requirement already satisfied: tqdm>=4.36.1 in /usr/local/lib/python3.7/dist-packages (from prophet) (4.62.3)\n",
            "Collecting ujson\n",
            "  Downloading ujson-4.2.0-cp37-cp37m-manylinux_2_17_x86_64.manylinux2014_x86_64.whl (214 kB)\n",
            "\u001b[K     |████████████████████████████████| 214 kB 9.5 MB/s \n",
            "\u001b[?25hRequirement already satisfied: pymeeus<=1,>=0.3.13 in /usr/local/lib/python3.7/dist-packages (from convertdate>=2.1.2->prophet) (0.5.11)\n",
            "Requirement already satisfied: pytz>=2014.10 in /usr/local/lib/python3.7/dist-packages (from convertdate>=2.1.2->prophet) (2018.9)\n",
            "Requirement already satisfied: korean-lunar-calendar in /usr/local/lib/python3.7/dist-packages (from holidays>=0.10.2->prophet) (0.2.1)\n",
            "Requirement already satisfied: six in /usr/local/lib/python3.7/dist-packages (from holidays>=0.10.2->prophet) (1.15.0)\n",
            "Requirement already satisfied: hijri-converter in /usr/local/lib/python3.7/dist-packages (from holidays>=0.10.2->prophet) (2.2.2)\n",
            "Requirement already satisfied: ephem>=3.7.5.3 in /usr/local/lib/python3.7/dist-packages (from LunarCalendar>=0.0.9->prophet) (4.1)\n",
            "Requirement already satisfied: cycler>=0.10 in /usr/local/lib/python3.7/dist-packages (from matplotlib>=2.0.0->prophet) (0.11.0)\n",
            "Requirement already satisfied: pyparsing!=2.0.4,!=2.1.2,!=2.1.6,>=2.0.1 in /usr/local/lib/python3.7/dist-packages (from matplotlib>=2.0.0->prophet) (2.4.7)\n",
            "Requirement already satisfied: kiwisolver>=1.0.1 in /usr/local/lib/python3.7/dist-packages (from matplotlib>=2.0.0->prophet) (1.3.2)\n",
            "Building wheels for collected packages: prophet\n",
            "  Building wheel for prophet (setup.py) ... \u001b[?25l\u001b[?25hdone\n",
            "  Created wheel for prophet: filename=prophet-1.0.1-py3-none-any.whl size=6640816 sha256=1ec8a7751fdbfc7107893f1b01c5080429ed8123321c1ddcbf52e1a5ccd02f44\n",
            "  Stored in directory: /root/.cache/pip/wheels/4e/a0/1a/02c9ec9e3e9de6bdbb3d769d11992a6926889d71567d6b9b67\n",
            "Successfully built prophet\n",
            "Installing collected packages: ujson, cmdstanpy, prophet\n",
            "  Attempting uninstall: cmdstanpy\n",
            "    Found existing installation: cmdstanpy 0.9.5\n",
            "    Uninstalling cmdstanpy-0.9.5:\n",
            "      Successfully uninstalled cmdstanpy-0.9.5\n",
            "\u001b[31mERROR: pip's dependency resolver does not currently take into account all the packages that are installed. This behaviour is the source of the following dependency conflicts.\n",
            "fbprophet 0.7.1 requires cmdstanpy==0.9.5, but you have cmdstanpy 0.9.68 which is incompatible.\u001b[0m\n",
            "Successfully installed cmdstanpy-0.9.68 prophet-1.0.1 ujson-4.2.0\n"
          ]
        }
      ]
    },
    {
      "cell_type": "code",
      "metadata": {
        "id": "nMgghCVYkPoa"
      },
      "source": [
        "from prophet import Prophet\n",
        "import pandas as pd\n",
        "import numpy as np\n",
        "from datetime import datetime as dt\n",
        "from datetime import timedelta"
      ],
      "execution_count": null,
      "outputs": []
    },
    {
      "cell_type": "code",
      "metadata": {
        "id": "MnR8bWtGkmeC"
      },
      "source": [
        "df = pd.read_csv(\"https://docs.google.com/spreadsheets/d/e/2PACX-1vT9FF5jsxkr2ljUN7Jk3cOkJ1fnp9bBB0yno45u_oF9eRYkNANJfYLqsqKxlMNYGMoxLu929uhC6han/pub?gid=426957286&single=true&output=csv\")\n",
        "df = df.iloc[:,:13]\n",
        "df = pd.melt(df, id_vars=\"Year\")\n",
        "df.columns = ['year', 'month', 'elevation']\n"
      ],
      "execution_count": null,
      "outputs": []
    },
    {
      "cell_type": "code",
      "metadata": {
        "colab": {
          "base_uri": "https://localhost:8080/",
          "height": 414
        },
        "id": "AACia99PmKiW",
        "outputId": "59a66976-dd6b-4a93-998b-5c6f7e660ed9"
      },
      "source": [
        "df.query(\"elevation > 0\")"
      ],
      "execution_count": null,
      "outputs": [
        {
          "output_type": "execute_result",
          "data": {
            "text/html": [
              "<div>\n",
              "<style scoped>\n",
              "    .dataframe tbody tr th:only-of-type {\n",
              "        vertical-align: middle;\n",
              "    }\n",
              "\n",
              "    .dataframe tbody tr th {\n",
              "        vertical-align: top;\n",
              "    }\n",
              "\n",
              "    .dataframe thead th {\n",
              "        text-align: right;\n",
              "    }\n",
              "</style>\n",
              "<table border=\"1\" class=\"dataframe\">\n",
              "  <thead>\n",
              "    <tr style=\"text-align: right;\">\n",
              "      <th></th>\n",
              "      <th>year</th>\n",
              "      <th>month</th>\n",
              "      <th>elevation</th>\n",
              "    </tr>\n",
              "  </thead>\n",
              "  <tbody>\n",
              "    <tr>\n",
              "      <th>1</th>\n",
              "      <td>1936</td>\n",
              "      <td>JAN</td>\n",
              "      <td>907.90</td>\n",
              "    </tr>\n",
              "    <tr>\n",
              "      <th>2</th>\n",
              "      <td>1937</td>\n",
              "      <td>JAN</td>\n",
              "      <td>1022.20</td>\n",
              "    </tr>\n",
              "    <tr>\n",
              "      <th>3</th>\n",
              "      <td>1938</td>\n",
              "      <td>JAN</td>\n",
              "      <td>1095.00</td>\n",
              "    </tr>\n",
              "    <tr>\n",
              "      <th>4</th>\n",
              "      <td>1939</td>\n",
              "      <td>JAN</td>\n",
              "      <td>1165.40</td>\n",
              "    </tr>\n",
              "    <tr>\n",
              "      <th>5</th>\n",
              "      <td>1940</td>\n",
              "      <td>JAN</td>\n",
              "      <td>1166.90</td>\n",
              "    </tr>\n",
              "    <tr>\n",
              "      <th>...</th>\n",
              "      <td>...</td>\n",
              "      <td>...</td>\n",
              "      <td>...</td>\n",
              "    </tr>\n",
              "    <tr>\n",
              "      <th>1038</th>\n",
              "      <td>2016</td>\n",
              "      <td>DEC</td>\n",
              "      <td>1080.82</td>\n",
              "    </tr>\n",
              "    <tr>\n",
              "      <th>1039</th>\n",
              "      <td>2017</td>\n",
              "      <td>DEC</td>\n",
              "      <td>1082.52</td>\n",
              "    </tr>\n",
              "    <tr>\n",
              "      <th>1040</th>\n",
              "      <td>2018</td>\n",
              "      <td>DEC</td>\n",
              "      <td>1081.46</td>\n",
              "    </tr>\n",
              "    <tr>\n",
              "      <th>1041</th>\n",
              "      <td>2019</td>\n",
              "      <td>DEC</td>\n",
              "      <td>1090.49</td>\n",
              "    </tr>\n",
              "    <tr>\n",
              "      <th>1042</th>\n",
              "      <td>2020</td>\n",
              "      <td>DEC</td>\n",
              "      <td>1083.72</td>\n",
              "    </tr>\n",
              "  </tbody>\n",
              "</table>\n",
              "<p>1040 rows × 3 columns</p>\n",
              "</div>"
            ],
            "text/plain": [
              "      year month  elevation\n",
              "1     1936   JAN     907.90\n",
              "2     1937   JAN    1022.20\n",
              "3     1938   JAN    1095.00\n",
              "4     1939   JAN    1165.40\n",
              "5     1940   JAN    1166.90\n",
              "...    ...   ...        ...\n",
              "1038  2016   DEC    1080.82\n",
              "1039  2017   DEC    1082.52\n",
              "1040  2018   DEC    1081.46\n",
              "1041  2019   DEC    1090.49\n",
              "1042  2020   DEC    1083.72\n",
              "\n",
              "[1040 rows x 3 columns]"
            ]
          },
          "metadata": {},
          "execution_count": 5
        }
      ]
    },
    {
      "cell_type": "code",
      "metadata": {
        "colab": {
          "base_uri": "https://localhost:8080/"
        },
        "id": "AMR7rbntyuWF",
        "outputId": "f6b558e7-b6db-4d5f-ee62-63296e65fef0"
      },
      "source": [
        "df.query(\"elevation > 0 and year >=1940\").elevation.max()"
      ],
      "execution_count": null,
      "outputs": [
        {
          "output_type": "execute_result",
          "data": {
            "text/plain": [
              "1225.44"
            ]
          },
          "metadata": {},
          "execution_count": 6
        }
      ]
    },
    {
      "cell_type": "code",
      "metadata": {
        "colab": {
          "base_uri": "https://localhost:8080/"
        },
        "id": "bwn-NYwa2-Kb",
        "outputId": "ab27d730-13cb-41d5-a0fd-3bf51725b8ee"
      },
      "source": [
        "np.percentile(df.query(\"elevation > 0 and year >=1940\").elevation.values, 100)"
      ],
      "execution_count": null,
      "outputs": [
        {
          "output_type": "execute_result",
          "data": {
            "text/plain": [
              "1225.44"
            ]
          },
          "metadata": {},
          "execution_count": 7
        }
      ]
    },
    {
      "cell_type": "code",
      "metadata": {
        "colab": {
          "base_uri": "https://localhost:8080/",
          "height": 414
        },
        "id": "oI5tqsp-xM9C",
        "outputId": "77624f64-ca7e-410a-a115-1819ba344dbf"
      },
      "source": [
        "pd.DataFrame({\"range\": range(0, 100), \"value\": np.percentile(df.query(\"elevation > 0 and year >=1940\").elevation, range(0, 100))})"
      ],
      "execution_count": null,
      "outputs": [
        {
          "output_type": "execute_result",
          "data": {
            "text/html": [
              "<div>\n",
              "<style scoped>\n",
              "    .dataframe tbody tr th:only-of-type {\n",
              "        vertical-align: middle;\n",
              "    }\n",
              "\n",
              "    .dataframe tbody tr th {\n",
              "        vertical-align: top;\n",
              "    }\n",
              "\n",
              "    .dataframe thead th {\n",
              "        text-align: right;\n",
              "    }\n",
              "</style>\n",
              "<table border=\"1\" class=\"dataframe\">\n",
              "  <thead>\n",
              "    <tr style=\"text-align: right;\">\n",
              "      <th></th>\n",
              "      <th>range</th>\n",
              "      <th>value</th>\n",
              "    </tr>\n",
              "  </thead>\n",
              "  <tbody>\n",
              "    <tr>\n",
              "      <th>0</th>\n",
              "      <td>0</td>\n",
              "      <td>1067.650</td>\n",
              "    </tr>\n",
              "    <tr>\n",
              "      <th>1</th>\n",
              "      <td>1</td>\n",
              "      <td>1075.218</td>\n",
              "    </tr>\n",
              "    <tr>\n",
              "      <th>2</th>\n",
              "      <td>2</td>\n",
              "      <td>1078.266</td>\n",
              "    </tr>\n",
              "    <tr>\n",
              "      <th>3</th>\n",
              "      <td>3</td>\n",
              "      <td>1079.712</td>\n",
              "    </tr>\n",
              "    <tr>\n",
              "      <th>4</th>\n",
              "      <td>4</td>\n",
              "      <td>1081.478</td>\n",
              "    </tr>\n",
              "    <tr>\n",
              "      <th>...</th>\n",
              "      <td>...</td>\n",
              "      <td>...</td>\n",
              "    </tr>\n",
              "    <tr>\n",
              "      <th>95</th>\n",
              "      <td>95</td>\n",
              "      <td>1211.160</td>\n",
              "    </tr>\n",
              "    <tr>\n",
              "      <th>96</th>\n",
              "      <td>96</td>\n",
              "      <td>1211.740</td>\n",
              "    </tr>\n",
              "    <tr>\n",
              "      <th>97</th>\n",
              "      <td>97</td>\n",
              "      <td>1212.770</td>\n",
              "    </tr>\n",
              "    <tr>\n",
              "      <th>98</th>\n",
              "      <td>98</td>\n",
              "      <td>1213.850</td>\n",
              "    </tr>\n",
              "    <tr>\n",
              "      <th>99</th>\n",
              "      <td>99</td>\n",
              "      <td>1214.782</td>\n",
              "    </tr>\n",
              "  </tbody>\n",
              "</table>\n",
              "<p>100 rows × 2 columns</p>\n",
              "</div>"
            ],
            "text/plain": [
              "    range     value\n",
              "0       0  1067.650\n",
              "1       1  1075.218\n",
              "2       2  1078.266\n",
              "3       3  1079.712\n",
              "4       4  1081.478\n",
              "..    ...       ...\n",
              "95     95  1211.160\n",
              "96     96  1211.740\n",
              "97     97  1212.770\n",
              "98     98  1213.850\n",
              "99     99  1214.782\n",
              "\n",
              "[100 rows x 2 columns]"
            ]
          },
          "metadata": {},
          "execution_count": 8
        }
      ]
    },
    {
      "cell_type": "code",
      "metadata": {
        "id": "6MDzMLhXoa_I"
      },
      "source": [
        "def to_date(y, m):\n",
        "  return dt.strptime(\"{} {}\".format(y, m), \"%Y %b\")\n",
        "\n",
        "ds = []\n",
        "for _, row in df.iterrows():\n",
        "  d = to_date(row[\"year\"], row[\"month\"])\n",
        "  ds.append(d.strftime(\"%Y-%m-%d\"))\n",
        "df[\"ds\"] = ds"
      ],
      "execution_count": null,
      "outputs": []
    },
    {
      "cell_type": "code",
      "metadata": {
        "colab": {
          "base_uri": "https://localhost:8080/",
          "height": 414
        },
        "id": "Jh5RpBzwpxdc",
        "outputId": "d24bf46d-4bfa-47cf-cddc-741b8b3d8425"
      },
      "source": [
        "df.query(\"elevation > 0 and year > 1970\")"
      ],
      "execution_count": null,
      "outputs": [
        {
          "output_type": "execute_result",
          "data": {
            "text/html": [
              "<div>\n",
              "<style scoped>\n",
              "    .dataframe tbody tr th:only-of-type {\n",
              "        vertical-align: middle;\n",
              "    }\n",
              "\n",
              "    .dataframe tbody tr th {\n",
              "        vertical-align: top;\n",
              "    }\n",
              "\n",
              "    .dataframe thead th {\n",
              "        text-align: right;\n",
              "    }\n",
              "</style>\n",
              "<table border=\"1\" class=\"dataframe\">\n",
              "  <thead>\n",
              "    <tr style=\"text-align: right;\">\n",
              "      <th></th>\n",
              "      <th>year</th>\n",
              "      <th>month</th>\n",
              "      <th>elevation</th>\n",
              "      <th>ds</th>\n",
              "    </tr>\n",
              "  </thead>\n",
              "  <tbody>\n",
              "    <tr>\n",
              "      <th>36</th>\n",
              "      <td>1971</td>\n",
              "      <td>JAN</td>\n",
              "      <td>1152.87</td>\n",
              "      <td>1971-01-01</td>\n",
              "    </tr>\n",
              "    <tr>\n",
              "      <th>37</th>\n",
              "      <td>1972</td>\n",
              "      <td>JAN</td>\n",
              "      <td>1162.27</td>\n",
              "      <td>1972-01-01</td>\n",
              "    </tr>\n",
              "    <tr>\n",
              "      <th>38</th>\n",
              "      <td>1973</td>\n",
              "      <td>JAN</td>\n",
              "      <td>1172.75</td>\n",
              "      <td>1973-01-01</td>\n",
              "    </tr>\n",
              "    <tr>\n",
              "      <th>39</th>\n",
              "      <td>1974</td>\n",
              "      <td>JAN</td>\n",
              "      <td>1180.14</td>\n",
              "      <td>1974-01-01</td>\n",
              "    </tr>\n",
              "    <tr>\n",
              "      <th>40</th>\n",
              "      <td>1975</td>\n",
              "      <td>JAN</td>\n",
              "      <td>1178.74</td>\n",
              "      <td>1975-01-01</td>\n",
              "    </tr>\n",
              "    <tr>\n",
              "      <th>...</th>\n",
              "      <td>...</td>\n",
              "      <td>...</td>\n",
              "      <td>...</td>\n",
              "      <td>...</td>\n",
              "    </tr>\n",
              "    <tr>\n",
              "      <th>1038</th>\n",
              "      <td>2016</td>\n",
              "      <td>DEC</td>\n",
              "      <td>1080.82</td>\n",
              "      <td>2016-12-01</td>\n",
              "    </tr>\n",
              "    <tr>\n",
              "      <th>1039</th>\n",
              "      <td>2017</td>\n",
              "      <td>DEC</td>\n",
              "      <td>1082.52</td>\n",
              "      <td>2017-12-01</td>\n",
              "    </tr>\n",
              "    <tr>\n",
              "      <th>1040</th>\n",
              "      <td>2018</td>\n",
              "      <td>DEC</td>\n",
              "      <td>1081.46</td>\n",
              "      <td>2018-12-01</td>\n",
              "    </tr>\n",
              "    <tr>\n",
              "      <th>1041</th>\n",
              "      <td>2019</td>\n",
              "      <td>DEC</td>\n",
              "      <td>1090.49</td>\n",
              "      <td>2019-12-01</td>\n",
              "    </tr>\n",
              "    <tr>\n",
              "      <th>1042</th>\n",
              "      <td>2020</td>\n",
              "      <td>DEC</td>\n",
              "      <td>1083.72</td>\n",
              "      <td>2020-12-01</td>\n",
              "    </tr>\n",
              "  </tbody>\n",
              "</table>\n",
              "<p>609 rows × 4 columns</p>\n",
              "</div>"
            ],
            "text/plain": [
              "      year month  elevation          ds\n",
              "36    1971   JAN    1152.87  1971-01-01\n",
              "37    1972   JAN    1162.27  1972-01-01\n",
              "38    1973   JAN    1172.75  1973-01-01\n",
              "39    1974   JAN    1180.14  1974-01-01\n",
              "40    1975   JAN    1178.74  1975-01-01\n",
              "...    ...   ...        ...         ...\n",
              "1038  2016   DEC    1080.82  2016-12-01\n",
              "1039  2017   DEC    1082.52  2017-12-01\n",
              "1040  2018   DEC    1081.46  2018-12-01\n",
              "1041  2019   DEC    1090.49  2019-12-01\n",
              "1042  2020   DEC    1083.72  2020-12-01\n",
              "\n",
              "[609 rows x 4 columns]"
            ]
          },
          "metadata": {},
          "execution_count": 10
        }
      ]
    },
    {
      "cell_type": "code",
      "metadata": {
        "colab": {
          "base_uri": "https://localhost:8080/",
          "height": 542
        },
        "id": "nL0QcRQeNOuQ",
        "outputId": "16d2bcd6-6640-4486-f57f-7fe0e06aff29"
      },
      "source": [
        "import plotly.graph_objects as go\n",
        "\n",
        "fig = go.Figure(data=px.line(df.query(\"elevation > 0 and year > 1938\").sort_values(by=\"ds\"), x='ds', y=\"elevation\"))\n",
        "\n",
        "fig.add_shape(type='line',\n",
        "              x0=0,\n",
        "              y0=1075,\n",
        "              x1=1,\n",
        "              y1=1075,\n",
        "              line=dict(color='Red',),\n",
        "              xref='paper',\n",
        "              yref='y'\n",
        ")\n",
        "fig.show()"
      ],
      "execution_count": null,
      "outputs": [
        {
          "output_type": "display_data",
          "data": {
            "text/html": [
              "<html>\n",
              "<head><meta charset=\"utf-8\" /></head>\n",
              "<body>\n",
              "    <div>\n",
              "            <script src=\"https://cdnjs.cloudflare.com/ajax/libs/mathjax/2.7.5/MathJax.js?config=TeX-AMS-MML_SVG\"></script><script type=\"text/javascript\">if (window.MathJax) {MathJax.Hub.Config({SVG: {font: \"STIX-Web\"}});}</script>\n",
              "                <script type=\"text/javascript\">window.PlotlyConfig = {MathJaxConfig: 'local'};</script>\n",
              "        <script src=\"https://cdn.plot.ly/plotly-latest.min.js\"></script>    \n",
              "            <div id=\"27324353-7815-4475-8fde-300539a4dac9\" class=\"plotly-graph-div\" style=\"height:525px; width:100%;\"></div>\n",
              "            <script type=\"text/javascript\">\n",
              "                \n",
              "                    window.PLOTLYENV=window.PLOTLYENV || {};\n",
              "                    \n",
              "                if (document.getElementById(\"27324353-7815-4475-8fde-300539a4dac9\")) {\n",
              "                    Plotly.newPlot(\n",
              "                        '27324353-7815-4475-8fde-300539a4dac9',\n",
              "                        [{\"hoverlabel\": {\"namelength\": 0}, \"hovertemplate\": \"ds=%{x}<br>elevation=%{y}\", \"legendgroup\": \"\", \"line\": {\"color\": \"#636efa\", \"dash\": \"solid\"}, \"mode\": \"lines\", \"name\": \"\", \"showlegend\": false, \"type\": \"scatter\", \"x\": [\"1939-01-01\", \"1939-02-01\", \"1939-03-01\", \"1939-04-01\", \"1939-05-01\", \"1939-06-01\", \"1939-07-01\", \"1939-08-01\", \"1939-09-01\", \"1939-10-01\", \"1939-11-01\", \"1939-12-01\", \"1940-01-01\", \"1940-02-01\", \"1940-03-01\", \"1940-04-01\", \"1940-05-01\", \"1940-06-01\", \"1940-07-01\", \"1940-08-01\", \"1940-09-01\", \"1940-10-01\", \"1940-11-01\", \"1940-12-01\", \"1941-01-01\", \"1941-02-01\", \"1941-03-01\", \"1941-04-01\", \"1941-05-01\", \"1941-06-01\", \"1941-07-01\", \"1941-08-01\", \"1941-09-01\", \"1941-10-01\", \"1941-11-01\", \"1941-12-01\", \"1942-01-01\", \"1942-02-01\", \"1942-03-01\", \"1942-04-01\", \"1942-05-01\", \"1942-06-01\", \"1942-07-01\", \"1942-08-01\", \"1942-09-01\", \"1942-10-01\", \"1942-11-01\", \"1942-12-01\", \"1943-01-01\", \"1943-02-01\", \"1943-03-01\", \"1943-04-01\", \"1943-05-01\", \"1943-06-01\", \"1943-07-01\", \"1943-08-01\", \"1943-09-01\", \"1943-10-01\", \"1943-11-01\", \"1943-12-01\", \"1944-01-01\", \"1944-02-01\", \"1944-03-01\", \"1944-04-01\", \"1944-05-01\", \"1944-06-01\", \"1944-07-01\", \"1944-08-01\", \"1944-09-01\", \"1944-10-01\", \"1944-11-01\", \"1944-12-01\", \"1945-01-01\", \"1945-02-01\", \"1945-03-01\", \"1945-04-01\", \"1945-05-01\", \"1945-06-01\", \"1945-07-01\", \"1945-08-01\", \"1945-09-01\", \"1945-10-01\", \"1945-11-01\", \"1945-12-01\", \"1946-01-01\", \"1946-02-01\", \"1946-03-01\", \"1946-04-01\", \"1946-05-01\", \"1946-06-01\", \"1946-07-01\", \"1946-08-01\", \"1946-09-01\", \"1946-10-01\", \"1946-11-01\", \"1946-12-01\", \"1947-01-01\", \"1947-02-01\", \"1947-03-01\", \"1947-04-01\", \"1947-05-01\", \"1947-06-01\", \"1947-07-01\", \"1947-08-01\", \"1947-09-01\", \"1947-10-01\", \"1947-11-01\", \"1947-12-01\", \"1948-01-01\", \"1948-02-01\", \"1948-03-01\", \"1948-04-01\", \"1948-05-01\", \"1948-06-01\", \"1948-07-01\", \"1948-08-01\", \"1948-09-01\", \"1948-10-01\", \"1948-11-01\", \"1948-12-01\", \"1949-01-01\", \"1949-02-01\", \"1949-03-01\", \"1949-04-01\", \"1949-05-01\", \"1949-06-01\", \"1949-07-01\", \"1949-08-01\", \"1949-09-01\", \"1949-10-01\", \"1949-11-01\", \"1949-12-01\", \"1950-01-01\", \"1950-02-01\", \"1950-03-01\", \"1950-04-01\", \"1950-05-01\", \"1950-06-01\", \"1950-07-01\", \"1950-08-01\", \"1950-09-01\", \"1950-10-01\", \"1950-11-01\", \"1950-12-01\", \"1951-01-01\", \"1951-02-01\", \"1951-03-01\", \"1951-04-01\", \"1951-05-01\", \"1951-06-01\", \"1951-07-01\", \"1951-08-01\", \"1951-09-01\", \"1951-10-01\", \"1951-11-01\", \"1951-12-01\", \"1952-01-01\", \"1952-02-01\", \"1952-03-01\", \"1952-04-01\", \"1952-05-01\", \"1952-06-01\", \"1952-07-01\", \"1952-08-01\", \"1952-09-01\", \"1952-10-01\", \"1952-11-01\", \"1952-12-01\", \"1953-01-01\", \"1953-02-01\", \"1953-03-01\", \"1953-04-01\", \"1953-05-01\", \"1953-06-01\", \"1953-07-01\", \"1953-08-01\", \"1953-09-01\", \"1953-10-01\", \"1953-11-01\", \"1953-12-01\", \"1954-01-01\", \"1954-02-01\", \"1954-03-01\", \"1954-04-01\", \"1954-05-01\", \"1954-06-01\", \"1954-07-01\", \"1954-08-01\", \"1954-09-01\", \"1954-10-01\", \"1954-11-01\", \"1954-12-01\", \"1955-01-01\", \"1955-02-01\", \"1955-03-01\", \"1955-04-01\", \"1955-05-01\", \"1955-06-01\", \"1955-07-01\", \"1955-08-01\", \"1955-09-01\", \"1955-10-01\", \"1955-11-01\", \"1955-12-01\", \"1956-01-01\", \"1956-02-01\", \"1956-03-01\", \"1956-04-01\", \"1956-05-01\", \"1956-06-01\", \"1956-07-01\", \"1956-08-01\", \"1956-09-01\", \"1956-10-01\", \"1956-11-01\", \"1956-12-01\", \"1957-01-01\", \"1957-02-01\", \"1957-03-01\", \"1957-04-01\", \"1957-05-01\", \"1957-06-01\", \"1957-07-01\", \"1957-08-01\", \"1957-09-01\", \"1957-10-01\", \"1957-11-01\", \"1957-12-01\", \"1958-01-01\", \"1958-02-01\", \"1958-03-01\", \"1958-04-01\", \"1958-05-01\", \"1958-06-01\", \"1958-07-01\", \"1958-08-01\", \"1958-09-01\", \"1958-10-01\", \"1958-11-01\", \"1958-12-01\", \"1959-01-01\", \"1959-02-01\", \"1959-03-01\", \"1959-04-01\", \"1959-05-01\", \"1959-06-01\", \"1959-07-01\", \"1959-08-01\", \"1959-09-01\", \"1959-10-01\", \"1959-11-01\", \"1959-12-01\", \"1960-01-01\", \"1960-02-01\", \"1960-03-01\", \"1960-04-01\", \"1960-05-01\", \"1960-06-01\", \"1960-07-01\", \"1960-08-01\", \"1960-09-01\", \"1960-10-01\", \"1960-11-01\", \"1960-12-01\", \"1961-01-01\", \"1961-02-01\", \"1961-03-01\", \"1961-04-01\", \"1961-05-01\", \"1961-06-01\", \"1961-07-01\", \"1961-08-01\", \"1961-09-01\", \"1961-10-01\", \"1961-11-01\", \"1961-12-01\", \"1962-01-01\", \"1962-02-01\", \"1962-03-01\", \"1962-04-01\", \"1962-05-01\", \"1962-06-01\", \"1962-07-01\", \"1962-08-01\", \"1962-09-01\", \"1962-10-01\", \"1962-11-01\", \"1962-12-01\", \"1963-01-01\", \"1963-02-01\", \"1963-03-01\", \"1963-04-01\", \"1963-05-01\", \"1963-06-01\", \"1963-07-01\", \"1963-08-01\", \"1963-09-01\", \"1963-10-01\", \"1963-11-01\", \"1963-12-01\", \"1964-01-01\", \"1964-02-01\", \"1964-03-01\", \"1964-04-01\", \"1964-05-01\", \"1964-06-01\", \"1964-07-01\", \"1964-08-01\", \"1964-09-01\", \"1964-10-01\", \"1964-11-01\", \"1964-12-01\", \"1965-01-01\", \"1965-02-01\", \"1965-03-01\", \"1965-04-01\", \"1965-05-01\", \"1965-06-01\", \"1965-07-01\", \"1965-08-01\", \"1965-09-01\", \"1965-10-01\", \"1965-11-01\", \"1965-12-01\", \"1966-01-01\", \"1966-02-01\", \"1966-03-01\", \"1966-04-01\", \"1966-05-01\", \"1966-06-01\", \"1966-07-01\", \"1966-08-01\", \"1966-09-01\", \"1966-10-01\", \"1966-11-01\", \"1966-12-01\", \"1967-01-01\", \"1967-02-01\", \"1967-03-01\", \"1967-04-01\", \"1967-05-01\", \"1967-06-01\", \"1967-07-01\", \"1967-08-01\", \"1967-09-01\", \"1967-10-01\", \"1967-11-01\", \"1967-12-01\", \"1968-01-01\", \"1968-02-01\", \"1968-03-01\", \"1968-04-01\", \"1968-05-01\", \"1968-06-01\", \"1968-07-01\", \"1968-08-01\", \"1968-09-01\", \"1968-10-01\", \"1968-11-01\", \"1968-12-01\", \"1969-01-01\", \"1969-02-01\", \"1969-03-01\", \"1969-04-01\", \"1969-05-01\", \"1969-06-01\", \"1969-07-01\", \"1969-08-01\", \"1969-09-01\", \"1969-10-01\", \"1969-11-01\", \"1969-12-01\", \"1970-01-01\", \"1970-02-01\", \"1970-03-01\", \"1970-04-01\", \"1970-05-01\", \"1970-06-01\", \"1970-07-01\", \"1970-08-01\", \"1970-09-01\", \"1970-10-01\", \"1970-11-01\", \"1970-12-01\", \"1971-01-01\", \"1971-02-01\", \"1971-03-01\", \"1971-04-01\", \"1971-05-01\", \"1971-06-01\", \"1971-07-01\", \"1971-08-01\", \"1971-09-01\", \"1971-10-01\", \"1971-11-01\", \"1971-12-01\", \"1972-01-01\", \"1972-02-01\", \"1972-03-01\", \"1972-04-01\", \"1972-05-01\", \"1972-06-01\", \"1972-07-01\", \"1972-08-01\", \"1972-09-01\", \"1972-10-01\", \"1972-11-01\", \"1972-12-01\", \"1973-01-01\", \"1973-02-01\", \"1973-03-01\", \"1973-04-01\", \"1973-05-01\", \"1973-06-01\", \"1973-07-01\", \"1973-08-01\", \"1973-09-01\", \"1973-10-01\", \"1973-11-01\", \"1973-12-01\", \"1974-01-01\", \"1974-02-01\", \"1974-03-01\", \"1974-04-01\", \"1974-05-01\", \"1974-06-01\", \"1974-07-01\", \"1974-08-01\", \"1974-09-01\", \"1974-10-01\", \"1974-11-01\", \"1974-12-01\", \"1975-01-01\", \"1975-02-01\", \"1975-03-01\", \"1975-04-01\", \"1975-05-01\", \"1975-06-01\", \"1975-07-01\", \"1975-08-01\", \"1975-09-01\", \"1975-10-01\", \"1975-11-01\", \"1975-12-01\", \"1976-01-01\", \"1976-02-01\", \"1976-03-01\", \"1976-04-01\", \"1976-05-01\", \"1976-06-01\", \"1976-07-01\", \"1976-08-01\", \"1976-09-01\", \"1976-10-01\", \"1976-11-01\", \"1976-12-01\", \"1977-01-01\", \"1977-02-01\", \"1977-03-01\", \"1977-04-01\", \"1977-05-01\", \"1977-06-01\", \"1977-07-01\", \"1977-08-01\", \"1977-09-01\", \"1977-10-01\", \"1977-11-01\", \"1977-12-01\", \"1978-01-01\", \"1978-02-01\", \"1978-03-01\", \"1978-04-01\", \"1978-05-01\", \"1978-06-01\", \"1978-07-01\", \"1978-08-01\", \"1978-09-01\", \"1978-10-01\", \"1978-11-01\", \"1978-12-01\", \"1979-01-01\", \"1979-02-01\", \"1979-03-01\", \"1979-04-01\", \"1979-05-01\", \"1979-06-01\", \"1979-07-01\", \"1979-08-01\", \"1979-09-01\", \"1979-10-01\", \"1979-11-01\", \"1979-12-01\", \"1980-01-01\", \"1980-02-01\", \"1980-03-01\", \"1980-04-01\", \"1980-05-01\", \"1980-06-01\", \"1980-07-01\", \"1980-08-01\", \"1980-09-01\", \"1980-10-01\", \"1980-11-01\", \"1980-12-01\", \"1981-01-01\", \"1981-02-01\", \"1981-03-01\", \"1981-04-01\", \"1981-05-01\", \"1981-06-01\", \"1981-07-01\", \"1981-08-01\", \"1981-09-01\", \"1981-10-01\", \"1981-11-01\", \"1981-12-01\", \"1982-01-01\", \"1982-02-01\", \"1982-03-01\", \"1982-04-01\", \"1982-05-01\", \"1982-06-01\", \"1982-07-01\", \"1982-08-01\", \"1982-09-01\", \"1982-10-01\", \"1982-11-01\", \"1982-12-01\", \"1983-01-01\", \"1983-02-01\", \"1983-03-01\", \"1983-04-01\", \"1983-05-01\", \"1983-06-01\", \"1983-07-01\", \"1983-08-01\", \"1983-09-01\", \"1983-10-01\", \"1983-11-01\", \"1983-12-01\", \"1984-01-01\", \"1984-02-01\", \"1984-03-01\", \"1984-04-01\", \"1984-05-01\", \"1984-06-01\", \"1984-07-01\", \"1984-08-01\", \"1984-09-01\", \"1984-10-01\", \"1984-11-01\", \"1984-12-01\", \"1985-01-01\", \"1985-02-01\", \"1985-03-01\", \"1985-04-01\", \"1985-05-01\", \"1985-06-01\", \"1985-07-01\", \"1985-08-01\", \"1985-09-01\", \"1985-10-01\", \"1985-11-01\", \"1985-12-01\", \"1986-01-01\", \"1986-02-01\", \"1986-03-01\", \"1986-04-01\", \"1986-05-01\", \"1986-06-01\", \"1986-07-01\", \"1986-08-01\", \"1986-09-01\", \"1986-10-01\", \"1986-11-01\", \"1986-12-01\", \"1987-01-01\", \"1987-02-01\", \"1987-03-01\", \"1987-04-01\", \"1987-05-01\", \"1987-06-01\", \"1987-07-01\", \"1987-08-01\", \"1987-09-01\", \"1987-10-01\", \"1987-11-01\", \"1987-12-01\", \"1988-01-01\", \"1988-02-01\", \"1988-03-01\", \"1988-04-01\", \"1988-05-01\", \"1988-06-01\", \"1988-07-01\", \"1988-08-01\", \"1988-09-01\", \"1988-10-01\", \"1988-11-01\", \"1988-12-01\", \"1989-01-01\", \"1989-02-01\", \"1989-03-01\", \"1989-04-01\", \"1989-05-01\", \"1989-06-01\", \"1989-07-01\", \"1989-08-01\", \"1989-09-01\", \"1989-10-01\", \"1989-11-01\", \"1989-12-01\", \"1990-01-01\", \"1990-02-01\", \"1990-03-01\", \"1990-04-01\", \"1990-05-01\", \"1990-06-01\", \"1990-07-01\", \"1990-08-01\", \"1990-09-01\", \"1990-10-01\", \"1990-11-01\", \"1990-12-01\", \"1991-01-01\", \"1991-02-01\", \"1991-03-01\", \"1991-04-01\", \"1991-05-01\", \"1991-06-01\", \"1991-07-01\", \"1991-08-01\", \"1991-09-01\", \"1991-10-01\", \"1991-11-01\", \"1991-12-01\", \"1992-01-01\", \"1992-02-01\", \"1992-03-01\", \"1992-04-01\", \"1992-05-01\", \"1992-06-01\", \"1992-07-01\", \"1992-08-01\", \"1992-09-01\", \"1992-10-01\", \"1992-11-01\", \"1992-12-01\", \"1993-01-01\", \"1993-02-01\", \"1993-03-01\", \"1993-04-01\", \"1993-05-01\", \"1993-06-01\", \"1993-07-01\", \"1993-08-01\", \"1993-09-01\", \"1993-10-01\", \"1993-11-01\", \"1993-12-01\", \"1994-01-01\", \"1994-02-01\", \"1994-03-01\", \"1994-04-01\", \"1994-05-01\", \"1994-06-01\", \"1994-07-01\", \"1994-08-01\", \"1994-09-01\", \"1994-10-01\", \"1994-11-01\", \"1994-12-01\", \"1995-01-01\", \"1995-02-01\", \"1995-03-01\", \"1995-04-01\", \"1995-05-01\", \"1995-06-01\", \"1995-07-01\", \"1995-08-01\", \"1995-09-01\", \"1995-10-01\", \"1995-11-01\", \"1995-12-01\", \"1996-01-01\", \"1996-02-01\", \"1996-03-01\", \"1996-04-01\", \"1996-05-01\", \"1996-06-01\", \"1996-07-01\", \"1996-08-01\", \"1996-09-01\", \"1996-10-01\", \"1996-11-01\", \"1996-12-01\", \"1997-01-01\", \"1997-02-01\", \"1997-03-01\", \"1997-04-01\", \"1997-05-01\", \"1997-06-01\", \"1997-07-01\", \"1997-08-01\", \"1997-09-01\", \"1997-10-01\", \"1997-11-01\", \"1997-12-01\", \"1998-01-01\", \"1998-02-01\", \"1998-03-01\", \"1998-04-01\", \"1998-05-01\", \"1998-06-01\", \"1998-07-01\", \"1998-08-01\", \"1998-09-01\", \"1998-10-01\", \"1998-11-01\", \"1998-12-01\", \"1999-01-01\", \"1999-02-01\", \"1999-03-01\", \"1999-04-01\", \"1999-05-01\", \"1999-06-01\", \"1999-07-01\", \"1999-08-01\", \"1999-09-01\", \"1999-10-01\", \"1999-11-01\", \"1999-12-01\", \"2000-01-01\", \"2000-02-01\", \"2000-03-01\", \"2000-04-01\", \"2000-05-01\", \"2000-06-01\", \"2000-07-01\", \"2000-08-01\", \"2000-09-01\", \"2000-10-01\", \"2000-11-01\", \"2000-12-01\", \"2001-01-01\", \"2001-02-01\", \"2001-03-01\", \"2001-04-01\", \"2001-05-01\", \"2001-06-01\", \"2001-07-01\", \"2001-08-01\", \"2001-09-01\", \"2001-10-01\", \"2001-11-01\", \"2001-12-01\", \"2002-01-01\", \"2002-02-01\", \"2002-03-01\", \"2002-04-01\", \"2002-05-01\", \"2002-06-01\", \"2002-07-01\", \"2002-08-01\", \"2002-09-01\", \"2002-10-01\", \"2002-11-01\", \"2002-12-01\", \"2003-01-01\", \"2003-02-01\", \"2003-03-01\", \"2003-04-01\", \"2003-05-01\", \"2003-06-01\", \"2003-07-01\", \"2003-08-01\", \"2003-09-01\", \"2003-10-01\", \"2003-11-01\", \"2003-12-01\", \"2004-01-01\", \"2004-02-01\", \"2004-03-01\", \"2004-04-01\", \"2004-05-01\", \"2004-06-01\", \"2004-07-01\", \"2004-08-01\", \"2004-09-01\", \"2004-10-01\", \"2004-11-01\", \"2004-12-01\", \"2005-01-01\", \"2005-02-01\", \"2005-03-01\", \"2005-04-01\", \"2005-05-01\", \"2005-06-01\", \"2005-07-01\", \"2005-08-01\", \"2005-09-01\", \"2005-10-01\", \"2005-11-01\", \"2005-12-01\", \"2006-01-01\", \"2006-02-01\", \"2006-03-01\", \"2006-04-01\", \"2006-05-01\", \"2006-06-01\", \"2006-07-01\", \"2006-08-01\", \"2006-09-01\", \"2006-10-01\", \"2006-11-01\", \"2006-12-01\", \"2007-01-01\", \"2007-02-01\", \"2007-03-01\", \"2007-04-01\", \"2007-05-01\", \"2007-06-01\", \"2007-07-01\", \"2007-08-01\", \"2007-09-01\", \"2007-10-01\", \"2007-11-01\", \"2007-12-01\", \"2008-01-01\", \"2008-02-01\", \"2008-03-01\", \"2008-04-01\", \"2008-05-01\", \"2008-06-01\", \"2008-07-01\", \"2008-08-01\", \"2008-09-01\", \"2008-10-01\", \"2008-11-01\", \"2008-12-01\", \"2009-01-01\", \"2009-02-01\", \"2009-03-01\", \"2009-04-01\", \"2009-05-01\", \"2009-06-01\", \"2009-07-01\", \"2009-08-01\", \"2009-09-01\", \"2009-10-01\", \"2009-11-01\", \"2009-12-01\", \"2010-01-01\", \"2010-02-01\", \"2010-03-01\", \"2010-04-01\", \"2010-05-01\", \"2010-06-01\", \"2010-07-01\", \"2010-08-01\", \"2010-09-01\", \"2010-10-01\", \"2010-11-01\", \"2010-12-01\", \"2011-01-01\", \"2011-02-01\", \"2011-03-01\", \"2011-04-01\", \"2011-05-01\", \"2011-06-01\", \"2011-07-01\", \"2011-08-01\", \"2011-09-01\", \"2011-10-01\", \"2011-11-01\", \"2011-12-01\", \"2012-01-01\", \"2012-02-01\", \"2012-03-01\", \"2012-04-01\", \"2012-05-01\", \"2012-06-01\", \"2012-07-01\", \"2012-08-01\", \"2012-09-01\", \"2012-10-01\", \"2012-11-01\", \"2012-12-01\", \"2013-01-01\", \"2013-02-01\", \"2013-03-01\", \"2013-04-01\", \"2013-05-01\", \"2013-06-01\", \"2013-07-01\", \"2013-08-01\", \"2013-09-01\", \"2013-10-01\", \"2013-11-01\", \"2013-12-01\", \"2014-01-01\", \"2014-02-01\", \"2014-03-01\", \"2014-04-01\", \"2014-05-01\", \"2014-06-01\", \"2014-07-01\", \"2014-08-01\", \"2014-09-01\", \"2014-10-01\", \"2014-11-01\", \"2014-12-01\", \"2015-01-01\", \"2015-02-01\", \"2015-03-01\", \"2015-04-01\", \"2015-05-01\", \"2015-06-01\", \"2015-07-01\", \"2015-08-01\", \"2015-09-01\", \"2015-10-01\", \"2015-11-01\", \"2015-12-01\", \"2016-01-01\", \"2016-02-01\", \"2016-03-01\", \"2016-04-01\", \"2016-05-01\", \"2016-06-01\", \"2016-07-01\", \"2016-08-01\", \"2016-09-01\", \"2016-10-01\", \"2016-11-01\", \"2016-12-01\", \"2017-01-01\", \"2017-02-01\", \"2017-03-01\", \"2017-04-01\", \"2017-05-01\", \"2017-06-01\", \"2017-07-01\", \"2017-08-01\", \"2017-09-01\", \"2017-10-01\", \"2017-11-01\", \"2017-12-01\", \"2018-01-01\", \"2018-02-01\", \"2018-03-01\", \"2018-04-01\", \"2018-05-01\", \"2018-06-01\", \"2018-07-01\", \"2018-08-01\", \"2018-09-01\", \"2018-10-01\", \"2018-11-01\", \"2018-12-01\", \"2019-01-01\", \"2019-02-01\", \"2019-03-01\", \"2019-04-01\", \"2019-05-01\", \"2019-06-01\", \"2019-07-01\", \"2019-08-01\", \"2019-09-01\", \"2019-10-01\", \"2019-11-01\", \"2019-12-01\", \"2020-01-01\", \"2020-02-01\", \"2020-03-01\", \"2020-04-01\", \"2020-05-01\", \"2020-06-01\", \"2020-07-01\", \"2020-08-01\", \"2020-09-01\", \"2020-10-01\", \"2020-11-01\", \"2020-12-01\", \"2021-01-01\", \"2021-02-01\", \"2021-03-01\", \"2021-04-01\", \"2021-05-01\", \"2021-06-01\", \"2021-07-01\", \"2021-08-01\", \"2021-09-01\"], \"xaxis\": \"x\", \"y\": [1165.4, 1157.4, 1158.2, 1162.9, 1176.2, 1183.45, 1181.3, 1177.35, 1178.95, 1176.1, 1173.05, 1169.95, 1166.9, 1166.0, 1164.65, 1164.85, 1175.35, 1182.15, 1179.8, 1176.1, 1174.45, 1173.75, 1170.8, 1168.05, 1167.1, 1167.55, 1170.35, 1175.85, 1201.25, 1215.55, 1220.4, 1216.5, 1209.85, 1211.25, 1205.6, 1195.8, 1184.8, 1176.75, 1171.25, 1182.9, 1195.5, 1213.15, 1213.2, 1210.4, 1205.0, 1199.25, 1194.05, 1188.4, 1182.45, 1179.6, 1177.0, 1180.6, 1188.75, 1199.4, 1201.55, 1199.65, 1195.7, 1189.9, 1184.5, 1178.35, 1170.9, 1164.2, 1158.4, 1158.1, 1173.2, 1194.85, 1199.55, 1193.9, 1187.1, 1180.6, 1174.55, 1168.0, 1161.25, 1155.75, 1149.6, 1147.4, 1161.3, 1174.55, 1180.7, 1177.95, 1177.95, 1173.6, 1168.95, 1163.35, 1157.55, 1151.65, 1147.45, 1148.2, 1155.15, 1163.95, 1163.3, 1161.25, 1157.65, 1153.9, 1151.65, 1148.55, 1142.6, 1133.1, 1135.38, 1134.49, 1151.93, 1169.64, 1177.18, 1180.13, 1178.02, 1177.88, 1175.24, 1170.58, 1164.52, 1158.8, 1154.51, 1158.77, 1175.95, 1192.15, 1190.32, 1186.95, 1180.82, 1175.89, 1170.91, 1164.85, 1158.04, 1150.99, 1147.17, 1148.28, 1164.51, 1189.07, 1196.61, 1193.17, 1186.86, 1181.19, 1176.93, 1170.06, 1163.4, 1156.7, 1151.75, 1152.13, 1158.57, 1173.95, 1177.15, 1173.36, 1168.77, 1164.43, 1160.19, 1156.62, 1151.47, 1168.02, 1144.07, 1141.34, 1146.16, 1163.53, 1168.19, 1167.0, 1163.75, 1160.42, 1157.25, 1153.12, 1149.06, 1143.0, 1133.99, 1141.96, 1171.53, 1198.06, 1199.88, 1195.74, 1190.0, 1183.13, 1176.39, 1169.1, 1162.56, 1157.12, 1152.42, 1148.4, 1147.33, 1165.11, 1165.87, 1163.38, 1157.67, 1152.99, 1150.06, 1145.78, 1141.44, 1138.22, 1134.08, 1130.26, 1130.76, 1129.88, 1126.25, 1120.82, 1115.39, 1112.9, 1109.74, 1105.4, 1100.77, 1096.14, 1092.85, 1089.72, 1095.9, 1105.91, 1103.65, 1102.78, 1098.5, 1095.11, 1092.63, 1090.99, 1089.2, 1087.06, 1083.57, 1083.81, 1098.0, 1116.62, 1114.58, 1110.66, 1105.76, 1102.05, 1099.14, 1097.02, 1095.05, 1094.32, 1092.24, 1091.0, 1109.31, 1150.81, 1176.08, 1182.34, 1182.52, 1182.5, 1181.61, 1177.39, 1170.95, 1168.56, 1163.64, 1164.61, 1185.52, 1205.43, 1203.39, 1198.97, 1195.57, 1192.45, 1189.59, 1185.85, 1182.31, 1182.03, 1176.6, 1172.83, 1172.59, 1179.84, 1179.27, 1175.65, 1171.13, 1169.35, 1168.85, 1167.28, 1165.09, 1163.78, 1164.26, 1169.94, 1175.09, 1183.71, 1181.32, 1175.25, 1170.36, 1168.47, 1167.46, 1165.12, 1162.67, 1160.75, 1156.19, 1153.56, 1154.45, 1161.19, 1157.62, 1154.05, 1153.74, 1155.15, 1155.22, 1154.64, 1153.56, 1156.51, 1154.69, 1165.75, 1185.56, 1198.17, 1203.98, 1200.87, 1197.64, 1196.65, 1195.05, 1193.12, 1190.98, 1189.67, 1185.07, 1179.06, 1172.43, 1167.16, 1160.27, 1153.88, 1149.04, 1144.99, 1141.5, 1136.93, 1131.74, 1128.4, 1123.85, 1123.41, 1119.32, 1112.47, 1103.84, 1098.58, 1093.49, 1090.12, 1089.02, 1088.14, 1089.83, 1090.63, 1088.31, 1094.57, 1110.08, 1125.69, 1124.33, 1124.32, 1124.79, 1125.9, 1127.93, 1129.74, 1132.24, 1133.05, 1132.24, 1132.15, 1133.07, 1132.7, 1130.32, 1128.21, 1127.59, 1128.42, 1129.72, 1132.05, 1133.42, 1133.31, 1131.65, 1131.72, 1131.49, 1130.4, 1128.81, 1128.44, 1130.2, 1128.67, 1127.71, 1129.84, 1132.07, 1132.54, 1132.79, 1134.15, 1135.18, 1136.23, 1136.76, 1136.89, 1136.44, 1137.46, 1139.05, 1139.65, 1140.46, 1140.67, 1139.34, 1140.79, 1141.26, 1141.79, 1143.32, 1145.31, 1146.86, 1147.22, 1149.71, 1152.5, 1153.65, 1153.32, 1151.06, 1150.8, 1150.87, 1150.73, 1150.53, 1151.33, 1152.58, 1151.77, 1151.75, 1152.95, 1152.87, 1150.4, 1148.29, 1148.63, 1149.06, 1149.85, 1151.22, 1152.85, 1153.61, 1154.4, 1156.84, 1160.13, 1162.27, 1160.94, 1156.12, 1154.74, 1154.35, 1154.6, 1154.84, 1156.28, 1158.49, 1161.59, 1163.82, 1168.35, 1172.75, 1174.73, 1178.78, 1186.14, 1185.93, 1186.34, 1184.89, 1182.28, 1180.26, 1179.47, 1178.7, 1176.92, 1180.14, 1178.08, 1174.95, 1171.35, 1169.68, 1169.6, 1171.87, 1173.3, 1173.99, 1173.83, 1175.67, 1176.8, 1178.74, 1178.38, 1177.13, 1174.18, 1173.66, 1174.48, 1176.97, 1178.16, 1180.1, 1180.41, 1179.64, 1179.63, 1180.93, 1182.9, 1181.25, 1179.68, 1180.39, 1180.47, 1179.85, 1177.84, 1179.4, 1182.16, 1185.94, 1187.87, 1193.01, 1191.98, 1189.01, 1183.1, 1179.83, 1176.16, 1175.34, 1177.27, 1180.48, 1180.36, 1179.29, 1180.82, 1186.09, 1187.62, 1188.44, 1186.14, 1184.58, 1184.76, 1183.31, 1183.74, 1185.43, 1186.69, 1188.73, 1193.31, 1198.83, 1202.61, 1201.04, 1200.01, 1197.55, 1195.5, 1194.86, 1195.71, 1195.3, 1195.12, 1196.64, 1197.97, 1198.99, 1204.13, 1202.87, 1201.94, 1199.93, 1202.27, 1204.65, 1204.58, 1204.92, 1203.21, 1203.68, 1202.88, 1203.58, 1204.31, 1202.15, 1198.44, 1196.22, 1193.7, 1192.88, 1192.78, 1192.67, 1194.11, 1195.42, 1198.28, 1201.15, 1202.39, 1201.02, 1198.3, 1196.93, 1196.42, 1196.48, 1197.39, 1198.96, 1201.06, 1204.76, 1208.37, 1206.83, 1210.25, 1211.59, 1211.26, 1212.33, 1220.27, 1225.44, 1222.17, 1218.21, 1215.32, 1213.38, 1212.33, 1209.82, 1207.67, 1206.05, 1205.91, 1209.74, 1212.17, 1212.92, 1211.4, 1210.06, 1208.63, 1208.29, 1207.9, 1206.95, 1206.68, 1206.43, 1206.16, 1209.83, 1214.25, 1213.95, 1212.79, 1213.14, 1211.16, 1208.76, 1205.49, 1201.59, 1202.72, 1202.45, 1204.78, 1208.16, 1210.13, 1207.14, 1207.52, 1208.83, 1208.7, 1209.77, 1210.39, 1210.23, 1210.58, 1208.57, 1207.67, 1205.99, 1206.6, 1207.8, 1209.56, 1209.79, 1208.69, 1210.05, 1211.03, 1211.17, 1211.7, 1210.74, 1208.36, 1206.23, 1203.18, 1201.43, 1199.57, 1199.16, 1199.15, 1199.46, 1199.75, 1201.4, 1202.49, 1200.28, 1197.35, 1192.59, 1190.4, 1189.72, 1189.4, 1190.22, 1189.55, 1189.02, 1189.8, 1191.0, 1191.75, 1189.56, 1186.89, 1183.93, 1182.06, 1179.49, 1178.82, 1180.02, 1178.9, 1178.54, 1177.89, 1179.39, 1180.06, 1179.31, 1177.8, 1175.92, 1174.67, 1173.29, 1172.92, 1173.01, 1171.73, 1171.82, 1173.44, 1177.25, 1179.42, 1180.31, 1179.78, 1177.31, 1175.07, 1173.92, 1173.59, 1174.44, 1174.68, 1175.45, 1176.86, 1183.64, 1189.88, 1193.46, 1193.04, 1190.27, 1188.27, 1187.2, 1188.41, 1189.15, 1188.05, 1188.45, 1188.75, 1190.09, 1190.97, 1188.51, 1184.94, 1181.64, 1179.42, 1178.97, 1178.24, 1178.4, 1177.8, 1175.67, 1176.55, 1180.37, 1182.58, 1182.27, 1179.68, 1178.33, 1179.03, 1180.75, 1181.7, 1184.28, 1186.12, 1189.65, 1190.92, 1193.45, 1193.81, 1193.81, 1192.75, 1191.26, 1190.43, 1190.26, 1190.02, 1190.84, 1191.56, 1192.71, 1194.38, 1195.63, 1196.51, 1199.1, 1200.01, 1199.96, 1202.32, 1203.49, 1204.52, 1205.81, 1209.64, 1212.8, 1214.64, 1214.4, 1214.05, 1214.26, 1212.74, 1211.59, 1211.83, 1212.43, 1214.3, 1214.78, 1215.76, 1214.79, 1212.53, 1212.89, 1213.3, 1211.75, 1208.8, 1207.37, 1206.4, 1207.28, 1208.74, 1211.29, 1212.11, 1212.58, 1213.94, 1214.26, 1213.79, 1211.33, 1208.78, 1207.67, 1204.09, 1199.97, 1196.66, 1196.72, 1196.66, 1196.45, 1196.12, 1197.27, 1196.62, 1194.68, 1190.76, 1187.32, 1183.12, 1180.78, 1179.97, 1177.96, 1178.03, 1177.22, 1177.37, 1177.94, 1176.5, 1172.06, 1167.49, 1162.39, 1160.19, 1157.57, 1156.42, 1155.42, 1154.89, 1153.3, 1152.13, 1153.33, 1154.42, 1153.09, 1148.27, 1144.68, 1143.19, 1141.93, 1143.27, 1142.12, 1141.17, 1139.48, 1139.12, 1140.39, 1140.11, 1138.7, 1134.98, 1129.7, 1126.93, 1125.73, 1126.67, 1125.86, 1127.43, 1130.13, 1130.01, 1137.4, 1143.25, 1147.66, 1144.45, 1141.89, 1140.46, 1139.01, 1139.61, 1138.36, 1137.01, 1135.27, 1137.52, 1139.46, 1141.2, 1139.48, 1135.94, 1131.14, 1128.26, 1126.42, 1126.54, 1125.36, 1126.13, 1126.63, 1128.12, 1129.55, 1129.35, 1125.79, 1120.69, 1115.89, 1113.5, 1111.58, 1111.84, 1111.06, 1110.95, 1111.22, 1114.81, 1116.46, 1116.93, 1115.65, 1110.61, 1107.05, 1104.98, 1104.42, 1105.13, 1105.76, 1107.94, 1107.33, 1110.97, 1111.78, 1111.43, 1107.4, 1101.26, 1096.92, 1095.26, 1094.2, 1093.73, 1093.68, 1093.26, 1093.52, 1096.3, 1100.02, 1103.21, 1100.66, 1098.0, 1094.3, 1089.3, 1086.97, 1086.91, 1083.81, 1082.36, 1081.94, 1086.3, 1091.73, 1095.78, 1096.39, 1095.76, 1097.9, 1102.38, 1107.07, 1113.45, 1116.04, 1121.0, 1125.82, 1132.83, 1134.18, 1133.06, 1129.41, 1123.93, 1119.38, 1115.84, 1115.92, 1116.56, 1115.16, 1116.5, 1117.24, 1120.36, 1122.32, 1122.14, 1118.59, 1112.91, 1108.36, 1105.98, 1105.92, 1106.13, 1106.92, 1104.04, 1106.36, 1106.73, 1108.75, 1107.94, 1101.71, 1094.55, 1087.46, 1082.66, 1080.6, 1081.55, 1081.33, 1082.79, 1083.57, 1087.79, 1088.51, 1088.98, 1084.87, 1079.03, 1076.57, 1075.08, 1078.15, 1078.31, 1078.1, 1078.99, 1078.23, 1080.91, 1083.68, 1084.17, 1080.45, 1076.13, 1073.8, 1071.64, 1072.75, 1075.17, 1075.23, 1076.34, 1076.55, 1080.82, 1086.08, 1089.78, 1088.26, 1084.89, 1081.56, 1079.52, 1079.03, 1081.44, 1082.05, 1082.3, 1080.95, 1082.52, 1087.5, 1088.21, 1088.11, 1084.49, 1080.0, 1076.81, 1077.43, 1078.88, 1078.29, 1078.52, 1078.32, 1081.46, 1085.75, 1087.97, 1090.24, 1088.95, 1086.48, 1084.71, 1082.82, 1083.45, 1083.0, 1082.61, 1083.85, 1090.49, 1094.68, 1096.27, 1098.59, 1096.39, 1091.32, 1087.07, 1084.63, 1084.04, 1083.21, 1081.88, 1081.07, 1083.72, 1085.95, 1087.26, 1084.39, 1079.3, 1073.5, 1068.77, 1067.65, 1067.96, 1067.68], \"yaxis\": \"y\"}],\n",
              "                        {\"legend\": {\"tracegroupgap\": 0}, \"margin\": {\"t\": 60}, \"shapes\": [{\"line\": {\"color\": \"Red\"}, \"type\": \"line\", \"x0\": 0, \"x1\": 1, \"xref\": \"paper\", \"y0\": 1075, \"y1\": 1075, \"yref\": \"y\"}], \"template\": {\"data\": {\"bar\": [{\"error_x\": {\"color\": \"#2a3f5f\"}, \"error_y\": {\"color\": \"#2a3f5f\"}, \"marker\": {\"line\": {\"color\": \"#E5ECF6\", \"width\": 0.5}}, \"type\": \"bar\"}], \"barpolar\": [{\"marker\": {\"line\": {\"color\": \"#E5ECF6\", \"width\": 0.5}}, \"type\": \"barpolar\"}], \"carpet\": [{\"aaxis\": {\"endlinecolor\": \"#2a3f5f\", \"gridcolor\": \"white\", \"linecolor\": \"white\", \"minorgridcolor\": \"white\", \"startlinecolor\": \"#2a3f5f\"}, \"baxis\": {\"endlinecolor\": \"#2a3f5f\", \"gridcolor\": \"white\", \"linecolor\": \"white\", \"minorgridcolor\": \"white\", \"startlinecolor\": \"#2a3f5f\"}, \"type\": \"carpet\"}], \"choropleth\": [{\"colorbar\": {\"outlinewidth\": 0, \"ticks\": \"\"}, \"type\": \"choropleth\"}], \"contour\": [{\"colorbar\": {\"outlinewidth\": 0, \"ticks\": \"\"}, \"colorscale\": [[0.0, \"#0d0887\"], [0.1111111111111111, \"#46039f\"], [0.2222222222222222, \"#7201a8\"], [0.3333333333333333, \"#9c179e\"], [0.4444444444444444, \"#bd3786\"], [0.5555555555555556, \"#d8576b\"], [0.6666666666666666, \"#ed7953\"], [0.7777777777777778, \"#fb9f3a\"], [0.8888888888888888, \"#fdca26\"], [1.0, \"#f0f921\"]], \"type\": \"contour\"}], \"contourcarpet\": [{\"colorbar\": {\"outlinewidth\": 0, \"ticks\": \"\"}, \"type\": \"contourcarpet\"}], \"heatmap\": [{\"colorbar\": {\"outlinewidth\": 0, \"ticks\": \"\"}, \"colorscale\": [[0.0, \"#0d0887\"], [0.1111111111111111, \"#46039f\"], [0.2222222222222222, \"#7201a8\"], [0.3333333333333333, \"#9c179e\"], [0.4444444444444444, \"#bd3786\"], [0.5555555555555556, \"#d8576b\"], [0.6666666666666666, \"#ed7953\"], [0.7777777777777778, \"#fb9f3a\"], [0.8888888888888888, \"#fdca26\"], [1.0, \"#f0f921\"]], \"type\": \"heatmap\"}], \"heatmapgl\": [{\"colorbar\": {\"outlinewidth\": 0, \"ticks\": \"\"}, \"colorscale\": [[0.0, \"#0d0887\"], [0.1111111111111111, \"#46039f\"], [0.2222222222222222, \"#7201a8\"], [0.3333333333333333, \"#9c179e\"], [0.4444444444444444, \"#bd3786\"], [0.5555555555555556, \"#d8576b\"], [0.6666666666666666, \"#ed7953\"], [0.7777777777777778, \"#fb9f3a\"], [0.8888888888888888, \"#fdca26\"], [1.0, \"#f0f921\"]], \"type\": \"heatmapgl\"}], \"histogram\": [{\"marker\": {\"colorbar\": {\"outlinewidth\": 0, \"ticks\": \"\"}}, \"type\": \"histogram\"}], \"histogram2d\": [{\"colorbar\": {\"outlinewidth\": 0, \"ticks\": \"\"}, \"colorscale\": [[0.0, \"#0d0887\"], [0.1111111111111111, \"#46039f\"], [0.2222222222222222, \"#7201a8\"], [0.3333333333333333, \"#9c179e\"], [0.4444444444444444, \"#bd3786\"], [0.5555555555555556, \"#d8576b\"], [0.6666666666666666, \"#ed7953\"], [0.7777777777777778, \"#fb9f3a\"], [0.8888888888888888, \"#fdca26\"], [1.0, \"#f0f921\"]], \"type\": \"histogram2d\"}], \"histogram2dcontour\": [{\"colorbar\": {\"outlinewidth\": 0, \"ticks\": \"\"}, \"colorscale\": [[0.0, \"#0d0887\"], [0.1111111111111111, \"#46039f\"], [0.2222222222222222, \"#7201a8\"], [0.3333333333333333, \"#9c179e\"], [0.4444444444444444, \"#bd3786\"], [0.5555555555555556, \"#d8576b\"], [0.6666666666666666, \"#ed7953\"], [0.7777777777777778, \"#fb9f3a\"], [0.8888888888888888, \"#fdca26\"], [1.0, \"#f0f921\"]], \"type\": \"histogram2dcontour\"}], \"mesh3d\": [{\"colorbar\": {\"outlinewidth\": 0, \"ticks\": \"\"}, \"type\": \"mesh3d\"}], \"parcoords\": [{\"line\": {\"colorbar\": {\"outlinewidth\": 0, \"ticks\": \"\"}}, \"type\": \"parcoords\"}], \"pie\": [{\"automargin\": true, \"type\": \"pie\"}], \"scatter\": [{\"marker\": {\"colorbar\": {\"outlinewidth\": 0, \"ticks\": \"\"}}, \"type\": \"scatter\"}], \"scatter3d\": [{\"line\": {\"colorbar\": {\"outlinewidth\": 0, \"ticks\": \"\"}}, \"marker\": {\"colorbar\": {\"outlinewidth\": 0, \"ticks\": \"\"}}, \"type\": \"scatter3d\"}], \"scattercarpet\": [{\"marker\": {\"colorbar\": {\"outlinewidth\": 0, \"ticks\": \"\"}}, \"type\": \"scattercarpet\"}], \"scattergeo\": [{\"marker\": {\"colorbar\": {\"outlinewidth\": 0, \"ticks\": \"\"}}, \"type\": \"scattergeo\"}], \"scattergl\": [{\"marker\": {\"colorbar\": {\"outlinewidth\": 0, \"ticks\": \"\"}}, \"type\": \"scattergl\"}], \"scattermapbox\": [{\"marker\": {\"colorbar\": {\"outlinewidth\": 0, \"ticks\": \"\"}}, \"type\": \"scattermapbox\"}], \"scatterpolar\": [{\"marker\": {\"colorbar\": {\"outlinewidth\": 0, \"ticks\": \"\"}}, \"type\": \"scatterpolar\"}], \"scatterpolargl\": [{\"marker\": {\"colorbar\": {\"outlinewidth\": 0, \"ticks\": \"\"}}, \"type\": \"scatterpolargl\"}], \"scatterternary\": [{\"marker\": {\"colorbar\": {\"outlinewidth\": 0, \"ticks\": \"\"}}, \"type\": \"scatterternary\"}], \"surface\": [{\"colorbar\": {\"outlinewidth\": 0, \"ticks\": \"\"}, \"colorscale\": [[0.0, \"#0d0887\"], [0.1111111111111111, \"#46039f\"], [0.2222222222222222, \"#7201a8\"], [0.3333333333333333, \"#9c179e\"], [0.4444444444444444, \"#bd3786\"], [0.5555555555555556, \"#d8576b\"], [0.6666666666666666, \"#ed7953\"], [0.7777777777777778, \"#fb9f3a\"], [0.8888888888888888, \"#fdca26\"], [1.0, \"#f0f921\"]], \"type\": \"surface\"}], \"table\": [{\"cells\": {\"fill\": {\"color\": \"#EBF0F8\"}, \"line\": {\"color\": \"white\"}}, \"header\": {\"fill\": {\"color\": \"#C8D4E3\"}, \"line\": {\"color\": \"white\"}}, \"type\": \"table\"}]}, \"layout\": {\"annotationdefaults\": {\"arrowcolor\": \"#2a3f5f\", \"arrowhead\": 0, \"arrowwidth\": 1}, \"coloraxis\": {\"colorbar\": {\"outlinewidth\": 0, \"ticks\": \"\"}}, \"colorscale\": {\"diverging\": [[0, \"#8e0152\"], [0.1, \"#c51b7d\"], [0.2, \"#de77ae\"], [0.3, \"#f1b6da\"], [0.4, \"#fde0ef\"], [0.5, \"#f7f7f7\"], [0.6, \"#e6f5d0\"], [0.7, \"#b8e186\"], [0.8, \"#7fbc41\"], [0.9, \"#4d9221\"], [1, \"#276419\"]], \"sequential\": [[0.0, \"#0d0887\"], [0.1111111111111111, \"#46039f\"], [0.2222222222222222, \"#7201a8\"], [0.3333333333333333, \"#9c179e\"], [0.4444444444444444, \"#bd3786\"], [0.5555555555555556, \"#d8576b\"], [0.6666666666666666, \"#ed7953\"], [0.7777777777777778, \"#fb9f3a\"], [0.8888888888888888, \"#fdca26\"], [1.0, \"#f0f921\"]], \"sequentialminus\": [[0.0, \"#0d0887\"], [0.1111111111111111, \"#46039f\"], [0.2222222222222222, \"#7201a8\"], [0.3333333333333333, \"#9c179e\"], [0.4444444444444444, \"#bd3786\"], [0.5555555555555556, \"#d8576b\"], [0.6666666666666666, \"#ed7953\"], [0.7777777777777778, \"#fb9f3a\"], [0.8888888888888888, \"#fdca26\"], [1.0, \"#f0f921\"]]}, \"colorway\": [\"#636efa\", \"#EF553B\", \"#00cc96\", \"#ab63fa\", \"#FFA15A\", \"#19d3f3\", \"#FF6692\", \"#B6E880\", \"#FF97FF\", \"#FECB52\"], \"font\": {\"color\": \"#2a3f5f\"}, \"geo\": {\"bgcolor\": \"white\", \"lakecolor\": \"white\", \"landcolor\": \"#E5ECF6\", \"showlakes\": true, \"showland\": true, \"subunitcolor\": \"white\"}, \"hoverlabel\": {\"align\": \"left\"}, \"hovermode\": \"closest\", \"mapbox\": {\"style\": \"light\"}, \"paper_bgcolor\": \"white\", \"plot_bgcolor\": \"#E5ECF6\", \"polar\": {\"angularaxis\": {\"gridcolor\": \"white\", \"linecolor\": \"white\", \"ticks\": \"\"}, \"bgcolor\": \"#E5ECF6\", \"radialaxis\": {\"gridcolor\": \"white\", \"linecolor\": \"white\", \"ticks\": \"\"}}, \"scene\": {\"xaxis\": {\"backgroundcolor\": \"#E5ECF6\", \"gridcolor\": \"white\", \"gridwidth\": 2, \"linecolor\": \"white\", \"showbackground\": true, \"ticks\": \"\", \"zerolinecolor\": \"white\"}, \"yaxis\": {\"backgroundcolor\": \"#E5ECF6\", \"gridcolor\": \"white\", \"gridwidth\": 2, \"linecolor\": \"white\", \"showbackground\": true, \"ticks\": \"\", \"zerolinecolor\": \"white\"}, \"zaxis\": {\"backgroundcolor\": \"#E5ECF6\", \"gridcolor\": \"white\", \"gridwidth\": 2, \"linecolor\": \"white\", \"showbackground\": true, \"ticks\": \"\", \"zerolinecolor\": \"white\"}}, \"shapedefaults\": {\"line\": {\"color\": \"#2a3f5f\"}}, \"ternary\": {\"aaxis\": {\"gridcolor\": \"white\", \"linecolor\": \"white\", \"ticks\": \"\"}, \"baxis\": {\"gridcolor\": \"white\", \"linecolor\": \"white\", \"ticks\": \"\"}, \"bgcolor\": \"#E5ECF6\", \"caxis\": {\"gridcolor\": \"white\", \"linecolor\": \"white\", \"ticks\": \"\"}}, \"title\": {\"x\": 0.05}, \"xaxis\": {\"automargin\": true, \"gridcolor\": \"white\", \"linecolor\": \"white\", \"ticks\": \"\", \"title\": {\"standoff\": 15}, \"zerolinecolor\": \"white\", \"zerolinewidth\": 2}, \"yaxis\": {\"automargin\": true, \"gridcolor\": \"white\", \"linecolor\": \"white\", \"ticks\": \"\", \"title\": {\"standoff\": 15}, \"zerolinecolor\": \"white\", \"zerolinewidth\": 2}}}, \"xaxis\": {\"anchor\": \"y\", \"domain\": [0.0, 1.0], \"title\": {\"text\": \"ds\"}}, \"yaxis\": {\"anchor\": \"x\", \"domain\": [0.0, 1.0], \"title\": {\"text\": \"elevation\"}}},\n",
              "                        {\"responsive\": true}\n",
              "                    ).then(function(){\n",
              "                            \n",
              "var gd = document.getElementById('27324353-7815-4475-8fde-300539a4dac9');\n",
              "var x = new MutationObserver(function (mutations, observer) {{\n",
              "        var display = window.getComputedStyle(gd).display;\n",
              "        if (!display || display === 'none') {{\n",
              "            console.log([gd, 'removed!']);\n",
              "            Plotly.purge(gd);\n",
              "            observer.disconnect();\n",
              "        }}\n",
              "}});\n",
              "\n",
              "// Listen for the removal of the full notebook cells\n",
              "var notebookContainer = gd.closest('#notebook-container');\n",
              "if (notebookContainer) {{\n",
              "    x.observe(notebookContainer, {childList: true});\n",
              "}}\n",
              "\n",
              "// Listen for the clearing of the current output cell\n",
              "var outputEl = gd.closest('.output');\n",
              "if (outputEl) {{\n",
              "    x.observe(outputEl, {childList: true});\n",
              "}}\n",
              "\n",
              "                        })\n",
              "                };\n",
              "                \n",
              "            </script>\n",
              "        </div>\n",
              "</body>\n",
              "</html>"
            ]
          },
          "metadata": {}
        }
      ]
    },
    {
      "cell_type": "markdown",
      "metadata": {
        "id": "JgL0ncOppcf_"
      },
      "source": [
        "### Cross-validation"
      ]
    },
    {
      "cell_type": "code",
      "metadata": {
        "id": "kKPrKzElC9FU"
      },
      "source": [
        "ddf = df.query(\"elevation > 0 and year >= 2005 and year <=2020\")[[\"ds\", \"elevation\"]].sort_values(by=\"ds\")\n",
        "ddf.columns = ['ds', 'y']\n",
        "\n",
        "#xtrain = ddf.iloc[:-24]\n",
        "#xtest = ddf.iloc[-24:]\n",
        "xtrain = ddf\n",
        "\n",
        "## If model is too high/low: bound it by cap/floor\n",
        "xtrain['floor'] = 895\n",
        "xtrain['cap'] = 1225"
      ],
      "execution_count": null,
      "outputs": []
    },
    {
      "cell_type": "code",
      "metadata": {
        "id": "RXKZxXoqrU1Z"
      },
      "source": [
        "import pandas as pd\n",
        "# start training using 2005-2014's data. evaluate on 2015-2020's data\n",
        "cutoffs = pd.date_range(start='2015-01-01', end='2018-12-01', freq='6MS')"
      ],
      "execution_count": null,
      "outputs": []
    },
    {
      "cell_type": "code",
      "metadata": {
        "colab": {
          "base_uri": "https://localhost:8080/"
        },
        "id": "pqemg0_pr-QL",
        "outputId": "39b30b5f-07f7-4b91-942c-7763e35899f4"
      },
      "source": [
        "cutof fs"
      ],
      "execution_count": null,
      "outputs": [
        {
          "output_type": "execute_result",
          "data": {
            "text/plain": [
              "DatetimeIndex(['2015-01-01', '2015-07-01', '2016-01-01', '2016-07-01',\n",
              "               '2017-01-01', '2017-07-01', '2018-01-01', '2018-07-01'],\n",
              "              dtype='datetime64[ns]', freq='6MS')"
            ]
          },
          "metadata": {},
          "execution_count": 93
        }
      ]
    },
    {
      "cell_type": "code",
      "metadata": {
        "colab": {
          "base_uri": "https://localhost:8080/"
        },
        "id": "rN7pHv4xp4j-",
        "outputId": "64f9b54f-e971-420c-c89a-6c8e8a1ef253"
      },
      "source": [
        "m = Prophet(\n",
        "    weekly_seasonality=False,\n",
        "    daily_seasonality=False)\n",
        "m.fit(xtrain)"
      ],
      "execution_count": null,
      "outputs": [
        {
          "output_type": "execute_result",
          "data": {
            "text/plain": [
              "<prophet.forecaster.Prophet at 0x7f0552182290>"
            ]
          },
          "metadata": {},
          "execution_count": 122
        }
      ]
    },
    {
      "cell_type": "code",
      "metadata": {
        "colab": {
          "base_uri": "https://localhost:8080/",
          "height": 420,
          "referenced_widgets": [
            "e07cd66958f14715bfe4a0d872bc0893",
            "a41dbde28e1040a894ed40fd6b2e55e7",
            "faf042b64a044210aaa4a16e42c12add",
            "be006cdbb2c1466cb3ea0f215415a9b5",
            "bc5896d28c084aff9e468122672da75e",
            "350a6b6a11f643fca2caaedb82845132",
            "ff8174d442bf476e9b176d5ee8218224",
            "3835d699f2e64beaac9d3e2dee003b21",
            "8eae171c996f4a75b8544bc2119d4aeb",
            "b2fd24f632db47a2b4e128571b6fa16b",
            "20080f5633fb4f93b26bfcbd669f84c2"
          ]
        },
        "id": "qWSyVatLrgBh",
        "outputId": "e5109d40-4cd8-4d57-e7d2-a58e013f283c"
      },
      "source": [
        "from prophet.diagnostics import cross_validation\n",
        "from prophet.diagnostics import performance_metrics\n",
        "from prophet.plot import plot_cross_validation_metric\n",
        "\n",
        "df_cv = cross_validation(model=m, horizon='730 days', cutoffs=cutoffs)\n",
        "df_p = performance_metrics(df_cv)\n",
        "fig = plot_cross_validation_metric(df_cv, metric='rmse')"
      ],
      "execution_count": null,
      "outputs": [
        {
          "output_type": "display_data",
          "data": {
            "application/vnd.jupyter.widget-view+json": {
              "model_id": "e07cd66958f14715bfe4a0d872bc0893",
              "version_minor": 0,
              "version_major": 2
            },
            "text/plain": [
              "  0%|          | 0/8 [00:00<?, ?it/s]"
            ]
          },
          "metadata": {}
        },
        {
          "output_type": "display_data",
          "data": {
            "image/png": "[encoded data removed]",
            "text/plain": [
              "<Figure size 720x432 with 1 Axes>"
            ]
          },
          "metadata": {}
        }
      ]
    },
    {
      "cell_type": "code",
      "metadata": {
        "colab": {
          "base_uri": "https://localhost:8080/"
        },
        "id": "4lbi9IlRuw7T",
        "outputId": "e7385c6c-6c72-4694-ec05-ac1f9f7327ef"
      },
      "source": [
        "m = Prophet(growth = 'logistic',\n",
        "    weekly_seasonality=False,\n",
        "    daily_seasonality=False)\n",
        "m.fit(xtrain)"
      ],
      "execution_count": null,
      "outputs": [
        {
          "output_type": "execute_result",
          "data": {
            "text/plain": [
              "<prophet.forecaster.Prophet at 0x7f055bfd93d0>"
            ]
          },
          "metadata": {},
          "execution_count": 124
        }
      ]
    },
    {
      "cell_type": "code",
      "metadata": {
        "colab": {
          "base_uri": "https://localhost:8080/",
          "height": 420,
          "referenced_widgets": [
            "d69dda7843a34ab19759817cae3884d2",
            "cdc86e58d6f148658a3b541e326f4c6c",
            "833ca187b38044088d4a115efef9aa67",
            "5c4e5209f5174a589fa7ecaca42979f6",
            "d1a40acffdbf43b8a19024deed238c93",
            "974271162fc34e9c85d6d1431baa8054",
            "464909281bda4ae2a0ed0dd8ddef99db",
            "927a40f2dc064152ad98fc6d7099a87e",
            "bfbc59026b004a28974bd1676fd53ad0",
            "b0480ae8375345058fbec79979e9ec27",
            "e007758ca05741c998af224503e9d6e0"
          ]
        },
        "id": "X5DKf4CuvsCM",
        "outputId": "ebea4058-3830-46ba-da40-e914865ce9d3"
      },
      "source": [
        "df_cv = cross_validation(model=m, horizon='730 days', cutoffs=cutoffs)\n",
        "df_p = performance_metrics(df_cv)\n",
        "fig = plot_cross_validation_metric(df_cv, metric='rmse')"
      ],
      "execution_count": null,
      "outputs": [
        {
          "output_type": "display_data",
          "data": {
            "application/vnd.jupyter.widget-view+json": {
              "model_id": "d69dda7843a34ab19759817cae3884d2",
              "version_minor": 0,
              "version_major": 2
            },
            "text/plain": [
              "  0%|          | 0/8 [00:00<?, ?it/s]"
            ]
          },
          "metadata": {}
        },
        {
          "output_type": "display_data",
          "data": {
            "image/png": "[encoded data removed]",
            "text/plain": [
              "<Figure size 720x432 with 1 Axes>"
            ]
          },
          "metadata": {}
        }
      ]
    },
    {
      "cell_type": "code",
      "metadata": {
        "colab": {
          "base_uri": "https://localhost:8080/"
        },
        "id": "_9ucxZwAwjX4",
        "outputId": "48614bae-aabe-481a-a47c-f2a1967c8732"
      },
      "source": [
        "m = Prophet(growth = 'logistic',\n",
        "    seasonality_mode = 'multiplicative',\n",
        "    weekly_seasonality=False,\n",
        "    daily_seasonality=False)\n",
        "m.fit(xtrain)"
      ],
      "execution_count": null,
      "outputs": [
        {
          "output_type": "execute_result",
          "data": {
            "text/plain": [
              "<prophet.forecaster.Prophet at 0x7f055c0dca90>"
            ]
          },
          "metadata": {},
          "execution_count": 115
        }
      ]
    },
    {
      "cell_type": "code",
      "metadata": {
        "colab": {
          "base_uri": "https://localhost:8080/",
          "height": 420,
          "referenced_widgets": [
            "191491cd71874a0ca6dbb19045529383",
            "35209f206dae4cb6b23624e680a8c94d",
            "fe0ea08e9d2e4d469adbd8462415e4a6",
            "2e93b21a981e459083a9ae448b3a44d6",
            "28ee5d161c1e4ef399bfbef948715c3f",
            "beb28abdb6a34256b01c7b3dec12ebff",
            "1d0121a60db4467c99592cea325fcd71",
            "7f6e88d8297645f7bebf109c85d93e17",
            "2a19c62a31f9455ea4ae8e0b35b3afb9",
            "c5e4559518c24c72b6d7b1fd7c54306d",
            "5e5715ea553f420ea01c51adc16b7939"
          ]
        },
        "id": "QvQSMCcmwjRX",
        "outputId": "30ae9435-442a-401b-9621-60d8c3428c2e"
      },
      "source": [
        "df_cv = cross_validation(model=m, horizon='730 days', cutoffs=cutoffs)\n",
        "df_p = performance_metrics(df_cv)\n",
        "fig = plot_cross_validation_metric(df_cv, metric='rmse')"
      ],
      "execution_count": null,
      "outputs": [
        {
          "output_type": "display_data",
          "data": {
            "application/vnd.jupyter.widget-view+json": {
              "model_id": "191491cd71874a0ca6dbb19045529383",
              "version_minor": 0,
              "version_major": 2
            },
            "text/plain": [
              "  0%|          | 0/8 [00:00<?, ?it/s]"
            ]
          },
          "metadata": {}
        },
        {
          "output_type": "display_data",
          "data": {
            "image/png": "[encoded data removed]",
            "text/plain": [
              "<Figure size 720x432 with 1 Axes>"
            ]
          },
          "metadata": {}
        }
      ]
    },
    {
      "cell_type": "code",
      "metadata": {
        "id": "YDLjh6hn1twJ"
      },
      "source": [
        "## It seems the best model is logistic w/ floor and cap\n",
        "m = Prophet(growth = 'logistic',\n",
        "    weekly_seasonality=False,\n",
        "    daily_seasonality=False)\n",
        "m.fit(xtrain)"
      ],
      "execution_count": null,
      "outputs": []
    },
    {
      "cell_type": "code",
      "metadata": {
        "id": "gOcG1QcoHHnb"
      },
      "source": [
        "future = m.make_future_dataframe(periods=12*30, freq='MS')\n",
        "future['floor'] = 895\n",
        "future['cap'] = 1225\n",
        "ppred = m.predict(future)"
      ],
      "execution_count": null,
      "outputs": []
    },
    {
      "cell_type": "code",
      "metadata": {
        "colab": {
          "base_uri": "https://localhost:8080/",
          "height": 441
        },
        "id": "UE5PehdvHINX",
        "outputId": "9618d226-97e9-4a7d-eeeb-6b6fcc29b335"
      },
      "source": [
        "fig = m.plot_components(ppred)\n"
      ],
      "execution_count": null,
      "outputs": [
        {
          "output_type": "display_data",
          "data": {
            "image/png": "[encoded data removed]",
            "text/plain": [
              "<Figure size 648x432 with 2 Axes>"
            ]
          },
          "metadata": {}
        }
      ]
    }
  ]
}